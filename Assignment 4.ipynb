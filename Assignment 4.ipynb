{
 "cells": [
  {
   "cell_type": "markdown",
   "id": "6127fa0b",
   "metadata": {},
   "source": [
    "##### 1. What exactly is [ ]?\n",
    "- it is empty list value"
   ]
  },
  {
   "cell_type": "markdown",
   "id": "e4f888e3",
   "metadata": {},
   "source": [
    "##### 2. In a list of values stored in a variable called spam, how would you assign the value 'hello' as the third value? (Assume [2, 4, 6, 8, 10] are in spam.)"
   ]
  },
  {
   "cell_type": "code",
   "execution_count": 1,
   "id": "132e2d12",
   "metadata": {},
   "outputs": [
    {
     "data": {
      "text/plain": [
       "[2, 4, 'hello', 8, 10]"
      ]
     },
     "execution_count": 1,
     "metadata": {},
     "output_type": "execute_result"
    }
   ],
   "source": [
    "spam = [2,4,6,8,10]\n",
    "spam[2]='hello'\n",
    "spam"
   ]
  },
  {
   "cell_type": "markdown",
   "id": "6f0d0ad7",
   "metadata": {},
   "source": [
    "##### 3. What is the value of spam[int(int('3' * 2) / 11)]?\n",
    "- spam['a','b','c','d']\n",
    "- spam[3] -->d"
   ]
  },
  {
   "cell_type": "code",
   "execution_count": 9,
   "id": "ea9f960f",
   "metadata": {},
   "outputs": [
    {
     "data": {
      "text/plain": [
       "3"
      ]
     },
     "execution_count": 9,
     "metadata": {},
     "output_type": "execute_result"
    }
   ],
   "source": [
    "int(int('3'*2)/11)"
   ]
  },
  {
   "cell_type": "code",
   "execution_count": 10,
   "id": "551de6a1",
   "metadata": {},
   "outputs": [
    {
     "data": {
      "text/plain": [
       "'d'"
      ]
     },
     "execution_count": 10,
     "metadata": {},
     "output_type": "execute_result"
    }
   ],
   "source": [
    "spam = ['a','b','c','d']\n",
    "spam[3]"
   ]
  },
  {
   "cell_type": "markdown",
   "id": "94ddf916",
   "metadata": {},
   "source": [
    "##### 4. What is the value of spam[-1]?"
   ]
  },
  {
   "cell_type": "code",
   "execution_count": 11,
   "id": "cd465056",
   "metadata": {},
   "outputs": [
    {
     "data": {
      "text/plain": [
       "'d'"
      ]
     },
     "execution_count": 11,
     "metadata": {},
     "output_type": "execute_result"
    }
   ],
   "source": [
    "spam[-1]  # negative index"
   ]
  },
  {
   "cell_type": "markdown",
   "id": "c367a791",
   "metadata": {},
   "source": [
    "##### 5. What is the value of spam[:2]?"
   ]
  },
  {
   "cell_type": "code",
   "execution_count": 12,
   "id": "2e147882",
   "metadata": {},
   "outputs": [
    {
     "data": {
      "text/plain": [
       "['a', 'b']"
      ]
     },
     "execution_count": 12,
     "metadata": {},
     "output_type": "execute_result"
    }
   ],
   "source": [
    "spam[:2]"
   ]
  },
  {
   "cell_type": "code",
   "execution_count": 13,
   "id": "7e602094",
   "metadata": {},
   "outputs": [],
   "source": [
    "bacon = [3.14, 'cat',11,'cat',True]"
   ]
  },
  {
   "cell_type": "markdown",
   "id": "96491967",
   "metadata": {},
   "source": [
    "##### 6. What is the value of bacon.index(&#39;cat&#39;)?"
   ]
  },
  {
   "cell_type": "code",
   "execution_count": 15,
   "id": "7553c388",
   "metadata": {},
   "outputs": [
    {
     "data": {
      "text/plain": [
       "1"
      ]
     },
     "execution_count": 15,
     "metadata": {},
     "output_type": "execute_result"
    }
   ],
   "source": [
    "bacon.index('cat')  # it show first occurence index"
   ]
  },
  {
   "cell_type": "markdown",
   "id": "46b97d2a",
   "metadata": {},
   "source": [
    "##### 7. How does bacon.append(99) change the look of the list value in bacon?"
   ]
  },
  {
   "cell_type": "code",
   "execution_count": 17,
   "id": "9ffce2cf",
   "metadata": {},
   "outputs": [
    {
     "data": {
      "text/plain": [
       "[3.14, 'cat', 11, 'cat', True, 99, 99]"
      ]
     },
     "execution_count": 17,
     "metadata": {},
     "output_type": "execute_result"
    }
   ],
   "source": [
    "bacon.append(99)  # add 99 at last position\n",
    "bacon"
   ]
  },
  {
   "cell_type": "markdown",
   "id": "b53165d3",
   "metadata": {},
   "source": [
    "##### 8. How does bacon.remove(&#39;cat&#39;) change the look of the list in bacon?"
   ]
  },
  {
   "cell_type": "code",
   "execution_count": 19,
   "id": "85d168e4",
   "metadata": {},
   "outputs": [
    {
     "data": {
      "text/plain": [
       "[3.14, 11, True, 99, 99]"
      ]
     },
     "execution_count": 19,
     "metadata": {},
     "output_type": "execute_result"
    }
   ],
   "source": [
    "bacon.remove('cat')\n",
    "bacon"
   ]
  },
  {
   "cell_type": "markdown",
   "id": "254e78c9",
   "metadata": {},
   "source": [
    "##### 9. What are the list concatenation and list replication operators?\n",
    "- list concatenation is +\n",
    "- list replication is *"
   ]
  },
  {
   "cell_type": "code",
   "execution_count": 20,
   "id": "454c9c9f",
   "metadata": {},
   "outputs": [
    {
     "data": {
      "text/plain": [
       "[1, 2, 3, 1, 2, 3]"
      ]
     },
     "execution_count": 20,
     "metadata": {},
     "output_type": "execute_result"
    }
   ],
   "source": [
    "[1,2,3]+[1,2,3]"
   ]
  },
  {
   "cell_type": "code",
   "execution_count": 21,
   "id": "494cb726",
   "metadata": {},
   "outputs": [
    {
     "data": {
      "text/plain": [
       "[1, 2, 3, 1, 2, 3]"
      ]
     },
     "execution_count": 21,
     "metadata": {},
     "output_type": "execute_result"
    }
   ],
   "source": [
    "[1,2,3]*2"
   ]
  },
  {
   "cell_type": "markdown",
   "id": "e187ae05",
   "metadata": {},
   "source": [
    "##### 10. What is difference between the list methods append() and insert()?\n",
    "- append - it used for concatension values at the last index\n",
    "- insert - it used for concatension value at specified index"
   ]
  },
  {
   "cell_type": "code",
   "execution_count": 28,
   "id": "568ae606",
   "metadata": {},
   "outputs": [
    {
     "data": {
      "text/plain": [
       "[1, 2, 3, 4]"
      ]
     },
     "execution_count": 28,
     "metadata": {},
     "output_type": "execute_result"
    }
   ],
   "source": [
    "l = [1,2,3]\n",
    "l.append(4)\n",
    "l"
   ]
  },
  {
   "cell_type": "code",
   "execution_count": 29,
   "id": "28434a6b",
   "metadata": {},
   "outputs": [
    {
     "data": {
      "text/plain": [
       "[1, 4, 2, 3, 4]"
      ]
     },
     "execution_count": 29,
     "metadata": {},
     "output_type": "execute_result"
    }
   ],
   "source": [
    "l.insert(1,4)\n",
    "l"
   ]
  },
  {
   "cell_type": "markdown",
   "id": "cad19680",
   "metadata": {},
   "source": [
    "##### 11. What are the two methods for removing items from a list?\n",
    "- pop() - delete last value in the list\n",
    "- remove() - delete specified value"
   ]
  },
  {
   "cell_type": "code",
   "execution_count": 30,
   "id": "dd930b1c",
   "metadata": {},
   "outputs": [
    {
     "data": {
      "text/plain": [
       "[1, 4, 2, 3]"
      ]
     },
     "execution_count": 30,
     "metadata": {},
     "output_type": "execute_result"
    }
   ],
   "source": [
    "l.pop()\n",
    "l"
   ]
  },
  {
   "cell_type": "code",
   "execution_count": 31,
   "id": "d76146d7",
   "metadata": {},
   "outputs": [],
   "source": [
    "l.remove(4)"
   ]
  },
  {
   "cell_type": "code",
   "execution_count": 32,
   "id": "d629c977",
   "metadata": {},
   "outputs": [
    {
     "data": {
      "text/plain": [
       "[1, 2, 3]"
      ]
     },
     "execution_count": 32,
     "metadata": {},
     "output_type": "execute_result"
    }
   ],
   "source": [
    "l"
   ]
  },
  {
   "cell_type": "markdown",
   "id": "65fc44b4",
   "metadata": {},
   "source": [
    "##### 12. Describe how list values and string values are identical.\n",
    "- list- its are mutable and store difference data type\n",
    "- string - its are immutable and store only contains characters that are all of string type"
   ]
  },
  {
   "cell_type": "markdown",
   "id": "3edc193b",
   "metadata": {},
   "source": [
    "##### 13. What&#39;s the difference between tuples and lists?\n",
    "##### List\n",
    "- write in square bracket []\n",
    "- it is mutable\n",
    "- consume more memory\n",
    "\n",
    "##### Tuple\n",
    "- write in parenthesis bracket ()\n",
    "- it is immutable\n",
    "- consume less memory\n"
   ]
  },
  {
   "cell_type": "markdown",
   "id": "dd22ea28",
   "metadata": {},
   "source": [
    "##### 14. How do you type a tuple value that only contains the integer 42?\n",
    "- tup = (42,)"
   ]
  },
  {
   "cell_type": "code",
   "execution_count": 1,
   "id": "a6ea2bbe",
   "metadata": {},
   "outputs": [
    {
     "data": {
      "text/plain": [
       "tuple"
      ]
     },
     "execution_count": 1,
     "metadata": {},
     "output_type": "execute_result"
    }
   ],
   "source": [
    "tup = (42,)\n",
    "type(tup)"
   ]
  },
  {
   "cell_type": "markdown",
   "id": "c11be60c",
   "metadata": {},
   "source": [
    "##### 15. How do you get a list value&#39;s tuple form? How do you get a tuple value&#39;s list form?\n",
    "- Convert tuple into list using list()\n",
    "- Convert list into tuple using tuple()"
   ]
  },
  {
   "cell_type": "code",
   "execution_count": 3,
   "id": "2e08f09b",
   "metadata": {},
   "outputs": [
    {
     "name": "stdout",
     "output_type": "stream",
     "text": [
      "[1, 2, 3, 4]\n",
      "<class 'list'>\n"
     ]
    }
   ],
   "source": [
    "tup = (1,2,3,4)\n",
    "ls = list(tup)\n",
    "print(ls)\n",
    "print(type(ls))"
   ]
  },
  {
   "cell_type": "code",
   "execution_count": 4,
   "id": "3d64b505",
   "metadata": {},
   "outputs": [
    {
     "name": "stdout",
     "output_type": "stream",
     "text": [
      "(1, 2, 3, 4, 5)\n",
      "<class 'tuple'>\n"
     ]
    }
   ],
   "source": [
    "lis = [1,2,3,4,5]\n",
    "tup = tuple(lis)\n",
    "print(tup)\n",
    "print(type(tup))"
   ]
  },
  {
   "cell_type": "markdown",
   "id": "719e769d",
   "metadata": {},
   "source": [
    "##### 16. Variables that &quot;contain&quot; list values are not necessarily lists themselves. Instead, what do they contain?\n",
    "- use list() function"
   ]
  },
  {
   "cell_type": "markdown",
   "id": "da74316d",
   "metadata": {},
   "source": [
    "##### 17. How do you distinguish between copy.copy() and copy.deepcopy()?\n",
    "##### copy.copy()\n",
    "- it create reference to original object.\n",
    "- if you change copied object-you change the original object\n",
    "\n",
    "##### .deepcopy()\n",
    "- it create new object and does real copying of original object to new one.\n",
    "- if you change deepcopied object doesn't affect original object\n"
   ]
  }
 ],
 "metadata": {
  "kernelspec": {
   "display_name": "Python 3 (ipykernel)",
   "language": "python",
   "name": "python3"
  },
  "language_info": {
   "codemirror_mode": {
    "name": "ipython",
    "version": 3
   },
   "file_extension": ".py",
   "mimetype": "text/x-python",
   "name": "python",
   "nbconvert_exporter": "python",
   "pygments_lexer": "ipython3",
   "version": "3.9.7"
  }
 },
 "nbformat": 4,
 "nbformat_minor": 5
}
