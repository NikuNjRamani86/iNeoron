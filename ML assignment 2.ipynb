{
 "cells": [
  {
   "cell_type": "markdown",
   "id": "c1293997",
   "metadata": {},
   "source": [
    "##### 1. What is the concept of human learning? Please give two examples.\n",
    "- it is the process of aquiring new understanding, knowledge, skills, attitudes, behaviors, values and preferences\n",
    "- when we see donkey and attach the term 'donkey', we learn that the word donkey refers to a particular animal"
   ]
  },
  {
   "cell_type": "markdown",
   "id": "9ef8ff1c",
   "metadata": {},
   "source": [
    "##### 2. What different forms of human learning are there? Are there any machine learning equivalents?\n",
    "- basically three types of human learning are calssical conditioning, operant conditioning and observational learning\n",
    "- and machine learning types are supervised, unsupervised and reinforcement learning"
   ]
  },
  {
   "cell_type": "markdown",
   "id": "ace32a83",
   "metadata": {},
   "source": [
    "##### 3. What is machine learning, and how does it work? What are the key responsibilities of machine learning?\n",
    "- it is a subfield of AI, which defined as the capability of a machine to imitate intelligent human behavior.\n",
    "- it works by exploring data and indentifying patterns and involves minimal human intervention\n",
    "- key responsible\n",
    " - designing ML systems\n",
    " - study and transform data science prototypes\n",
    " - develop ML applications according to requirements"
   ]
  },
  {
   "cell_type": "markdown",
   "id": "3702968e",
   "metadata": {},
   "source": [
    "##### 4. Define the terms &quot;penalty&quot; and &quot;reward&quot; in the context of reinforcement learning.\n",
    "- The agent receives rewards by performing correctly and penalties for performing incorrectly. The agent learns without intervention from a human by maximizing its reward and minimizing its penalty."
   ]
  },
  {
   "cell_type": "markdown",
   "id": "0add7234",
   "metadata": {},
   "source": [
    "##### 5. Explain the term &quot;learning as a search&quot;?\n",
    "- searching through a large space of hypotheses implicity defined by the hypothesis representation"
   ]
  },
  {
   "cell_type": "markdown",
   "id": "6bb326aa",
   "metadata": {},
   "source": [
    "##### 6. What are the various goals of machine learning? What is the relationship between these and human learning?\n",
    "- the goal is to inderstand the nature of human and to build learning capability in computers.\n",
    "- human lerning process varies from person to person,so that its difficult to change it wherever ML is easy to chnage learning method by selecting a different algorithm"
   ]
  },
  {
   "cell_type": "markdown",
   "id": "6335ed94",
   "metadata": {},
   "source": [
    "# 7. Illustrate the various elements of machine learning using a real-life illustration.\n",
    "- Evaluation - how good models are differentiated\n",
    "- Representation - what the model looks like\n",
    "- Optimization - the process for finding good models"
   ]
  },
  {
   "cell_type": "markdown",
   "id": "a4a1e11c",
   "metadata": {},
   "source": [
    "##### 8. Provide an example of the abstraction method.\n",
    "- automatically driving\n",
    "- making coffee machine"
   ]
  },
  {
   "cell_type": "markdown",
   "id": "7a006927",
   "metadata": {},
   "source": [
    "# 9. What is the concept of generalization? What function does it play in the machine learning process?\n",
    "- when we bulid a model, our main aim to generalize the model. Generalization meaning build good model so that when we input new data and it give best output.\n",
    "- regularization and hyperparameter through we generalize model"
   ]
  },
  {
   "cell_type": "markdown",
   "id": "cdf050ca",
   "metadata": {},
   "source": [
    "######  10.What is classification, exactly? What are the main distinctions between classification and regression?\n",
    "- it is process of categorizing a given set of data into classes.\n",
    "- the main difference between classification and regression are target variable\n",
    "- classification problem has discreate data\n",
    "- regression problem has continuos data"
   ]
  },
  {
   "cell_type": "markdown",
   "id": "82c98745",
   "metadata": {},
   "source": [
    "##### 11. What is regression, and how does it work? Give an example of a real-world problem that was solved using regression.\n",
    "- it is statistical method that determine the strength and character of the relationship between dependent and independent variables\n",
    "- it identifying which variables have impact on a topic of interest. \n",
    "- predicting house price, find body mass index, finance, investing and etc."
   ]
  },
  {
   "cell_type": "markdown",
   "id": "adbf4600",
   "metadata": {},
   "source": [
    "##### 12. Describe the clustering mechanism in detail.\n",
    "- first, it is dividing the data into a number of groups such that data points in the same groups are more similar to other data point in the same group than those in other groups."
   ]
  },
  {
   "cell_type": "markdown",
   "id": "09bc64e0",
   "metadata": {},
   "source": [
    "##### 13. Make brief observations on two of the following topics:\n",
    "##### Machine learning algorithms are used\n",
    "- supervised ML:\n",
    " - regression algorithms are used when target variable is continue data\n",
    "  - Linear regression (when independent and dependent variable has linear relationship between them)\n",
    "  - Decision tree\n",
    "  - Random forest\n",
    "  - Support vector regression\n",
    "  - AdaBoost\n",
    "  - XGboost\n",
    " - classificaion algorithms are used when target variable is discreate data\n",
    "  - Logistic regression\n",
    "  - Naive bayes\n",
    "  - KNN\n",
    "  \n",
    "- Unsupervised ML:\n",
    " - when data does not have target variable then use below algorithms:\n",
    " - DBscan\n",
    " - K-mean clustring\n",
    " - hierarchical clustering\n",
    " - principle component analysis\n",
    " "
   ]
  },
  {
   "cell_type": "code",
   "execution_count": null,
   "id": "ed053240",
   "metadata": {},
   "outputs": [],
   "source": []
  }
 ],
 "metadata": {
  "kernelspec": {
   "display_name": "Python 3 (ipykernel)",
   "language": "python",
   "name": "python3"
  },
  "language_info": {
   "codemirror_mode": {
    "name": "ipython",
    "version": 3
   },
   "file_extension": ".py",
   "mimetype": "text/x-python",
   "name": "python",
   "nbconvert_exporter": "python",
   "pygments_lexer": "ipython3",
   "version": "3.9.7"
  }
 },
 "nbformat": 4,
 "nbformat_minor": 5
}
