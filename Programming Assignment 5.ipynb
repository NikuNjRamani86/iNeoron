{
 "cells": [
  {
   "cell_type": "markdown",
   "id": "47be8b2a",
   "metadata": {},
   "source": [
    "##### 1. Write a Python Program to Find LCM?"
   ]
  },
  {
   "cell_type": "code",
   "execution_count": 1,
   "id": "0798eb00",
   "metadata": {},
   "outputs": [],
   "source": [
    "def callcm(x,y):\n",
    "    if x>y:\n",
    "        greater = x\n",
    "    else:\n",
    "        greater = y\n",
    "        \n",
    "    while (True):\n",
    "        if ((greater%x==0) and (greater%y==0)):\n",
    "            lcm = greater\n",
    "            break\n",
    "        greater +=1\n",
    "    return lcm\n",
    "            \n",
    "            "
   ]
  },
  {
   "cell_type": "code",
   "execution_count": 3,
   "id": "a7caac6c",
   "metadata": {},
   "outputs": [
    {
     "data": {
      "text/plain": [
       "340"
      ]
     },
     "execution_count": 3,
     "metadata": {},
     "output_type": "execute_result"
    }
   ],
   "source": [
    "callcm(20,85)"
   ]
  },
  {
   "cell_type": "markdown",
   "id": "808481ab",
   "metadata": {},
   "source": [
    "##### 2. Write a Python Program to Find HCF?"
   ]
  },
  {
   "cell_type": "code",
   "execution_count": 6,
   "id": "f0419bb7",
   "metadata": {},
   "outputs": [],
   "source": [
    "def calhcf(x,y):\n",
    "    if x>y:\n",
    "        smaller = y\n",
    "    else:\n",
    "        smaller = x\n",
    "    for i in range(1,smaller+1):\n",
    "        if((x%i==0) and (y%i==0)):\n",
    "            hcf = i\n",
    "    return hcf\n",
    "            \n",
    "        "
   ]
  },
  {
   "cell_type": "code",
   "execution_count": 7,
   "id": "9cb5e1d4",
   "metadata": {},
   "outputs": [
    {
     "data": {
      "text/plain": [
       "5"
      ]
     },
     "execution_count": 7,
     "metadata": {},
     "output_type": "execute_result"
    }
   ],
   "source": [
    "calhcf(20,85)"
   ]
  },
  {
   "cell_type": "markdown",
   "id": "cec03325",
   "metadata": {},
   "source": [
    "##### 3. Write a Python Program to Convert Decimal to Binary, Octal and Hexadecimal?"
   ]
  },
  {
   "cell_type": "code",
   "execution_count": 8,
   "id": "38f79bf1",
   "metadata": {},
   "outputs": [
    {
     "name": "stdout",
     "output_type": "stream",
     "text": [
      "0b11001 in binary\n",
      "0o31 in octal\n",
      "0x19 in hexadecimal\n"
     ]
    }
   ],
   "source": [
    "num = 25\n",
    "print(bin(num), 'in binary')\n",
    "print(oct(num), 'in octal')\n",
    "print(hex(num), 'in hexadecimal')"
   ]
  },
  {
   "cell_type": "markdown",
   "id": "5ae9c4fc",
   "metadata": {},
   "source": [
    "##### 4. Write a Python Program To Find ASCII value of a character?"
   ]
  },
  {
   "cell_type": "code",
   "execution_count": 10,
   "id": "8223a3f0",
   "metadata": {},
   "outputs": [
    {
     "name": "stdout",
     "output_type": "stream",
     "text": [
      "53\n"
     ]
    }
   ],
   "source": [
    "a = \"5\"\n",
    "print(ord(a))"
   ]
  },
  {
   "cell_type": "markdown",
   "id": "a9b800bc",
   "metadata": {},
   "source": [
    "##### 5. Write a Python Program to Make a Simple Calculator with 4 basic mathematical operations?"
   ]
  },
  {
   "cell_type": "code",
   "execution_count": 33,
   "id": "cbf2ebf5",
   "metadata": {},
   "outputs": [
    {
     "name": "stdout",
     "output_type": "stream",
     "text": [
      "Select operation\n",
      "+\n",
      "-\n",
      "*\n",
      "/\n",
      "Enter choice +,-,*,/: +\n",
      "Enter first number:5\n",
      "Enter second number:5\n",
      "10.0\n",
      "Let's do next calculation? (yes/no): yes\n",
      "Enter choice +,-,*,/: -\n",
      "Enter first number:5\n",
      "Enter second number:5\n",
      "0.0\n",
      "Let's do next calculation? (yes/no): no\n"
     ]
    }
   ],
   "source": [
    "def add(x,y):\n",
    "    return x+y\n",
    "def sub(x,y):\n",
    "    return x-y\n",
    "def multiply(x,y):\n",
    "    return x*y\n",
    "def divide(x,y):\n",
    "    return x/y\n",
    "\n",
    "print('Select operation')\n",
    "print('+')\n",
    "print('-')\n",
    "print('*')\n",
    "print('/')\n",
    "\n",
    "while True:\n",
    "    choice = input('Enter choice +,-,*,/: ')\n",
    "    \n",
    "    \n",
    "    if choice in ('+','-','*','/'):\n",
    "        x1 = float(input('Enter first number:'))\n",
    "        y1 = float(input('Enter second number:'))\n",
    "        \n",
    "        if choice == '+':\n",
    "            print(add(x1,y1))\n",
    "        elif choice == '-':\n",
    "            print(sub(x1,y1))\n",
    "        elif choice == '*':\n",
    "            print(multiply(x1,y1))\n",
    "        else:\n",
    "            print(divide(x1,y1))\n",
    "                  \n",
    "        next_calcuation = input(\"Let's do next calculation? (yes/no): \")\n",
    "        if next_calcuation == 'no':\n",
    "            break\n",
    "    "
   ]
  },
  {
   "cell_type": "code",
   "execution_count": null,
   "id": "2de0f0ff",
   "metadata": {},
   "outputs": [],
   "source": []
  }
 ],
 "metadata": {
  "kernelspec": {
   "display_name": "Python 3 (ipykernel)",
   "language": "python",
   "name": "python3"
  },
  "language_info": {
   "codemirror_mode": {
    "name": "ipython",
    "version": 3
   },
   "file_extension": ".py",
   "mimetype": "text/x-python",
   "name": "python",
   "nbconvert_exporter": "python",
   "pygments_lexer": "ipython3",
   "version": "3.9.7"
  }
 },
 "nbformat": 4,
 "nbformat_minor": 5
}
