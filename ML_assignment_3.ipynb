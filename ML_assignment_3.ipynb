{
 "cells": [
  {
   "cell_type": "markdown",
   "id": "d9b9580e",
   "metadata": {},
   "source": [
    "# machine learning assignment 3"
   ]
  },
  {
   "cell_type": "markdown",
   "id": "8b266ed0",
   "metadata": {},
   "source": [
    "## Answer-1\n",
    "1) ML - Is is subset of AI. Its the capability of a machine learning intelligent human behavior.\n",
    "2) Application - Traffic prediction and Weather forecastin.\n",
    "3) Ethical concern - Accuracy, bias,privacy, bias,discrimination"
   ]
  },
  {
   "cell_type": "markdown",
   "id": "3bf83cd5",
   "metadata": {},
   "source": [
    "## Answer - 2\n",
    "1) self education - currently so many institute are working on online education like iNeuron. self education very impactfull to us. because there are no any disturbuncy."
   ]
  },
  {
   "cell_type": "markdown",
   "id": "cde06b46",
   "metadata": {},
   "source": [
    "## Answer - 3\n",
    "1) Supervised Ml - linear regression, logistic regression, Gaussian Naive bayes, etc.\n",
    "2) Unsupervised Ml - Clustering,dimension reduction, etc.\n",
    "3) Reinforcement - robotic"
   ]
  },
  {
   "cell_type": "code",
   "execution_count": 3,
   "id": "7721c802",
   "metadata": {},
   "outputs": [],
   "source": [
    "#answer - 3\n",
    "Three types of Ml - Supervised, unsupervised and reinforcement\n"
   ]
  },
  {
   "cell_type": "code",
   "execution_count": null,
   "id": "bbc96cf3",
   "metadata": {},
   "outputs": [],
   "source": []
  }
 ],
 "metadata": {
  "kernelspec": {
   "display_name": "Python 3 (ipykernel)",
   "language": "python",
   "name": "python3"
  },
  "language_info": {
   "codemirror_mode": {
    "name": "ipython",
    "version": 3
   },
   "file_extension": ".py",
   "mimetype": "text/x-python",
   "name": "python",
   "nbconvert_exporter": "python",
   "pygments_lexer": "ipython3",
   "version": "3.9.12"
  }
 },
 "nbformat": 4,
 "nbformat_minor": 5
}
