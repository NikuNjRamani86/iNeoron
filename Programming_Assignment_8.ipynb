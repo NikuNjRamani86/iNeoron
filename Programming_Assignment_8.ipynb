{
 "cells": [
  {
   "cell_type": "markdown",
   "id": "ccaf8f95",
   "metadata": {},
   "source": [
    "### 1. Write a Python Program to Add Two Matrices"
   ]
  },
  {
   "cell_type": "code",
   "execution_count": 2,
   "id": "b2549089",
   "metadata": {},
   "outputs": [],
   "source": [
    "import numpy as np\n",
    "a = np.array([[1,2,3],[4,5,6],[7,8,9]])\n",
    "b = np.array([[9,7,8],[5,6,4],[3,2,1]])"
   ]
  },
  {
   "cell_type": "code",
   "execution_count": 9,
   "id": "7edd1fc5",
   "metadata": {},
   "outputs": [
    {
     "name": "stdout",
     "output_type": "stream",
     "text": [
      "[[10  9 11]\n",
      " [ 9 11 10]\n",
      " [10 10 10]]\n"
     ]
    }
   ],
   "source": [
    "\n",
    "def add_mat(matric1, matric2):\n",
    "    if matric1.shape == matric2.shape:\n",
    "        return matric1+matric2\n",
    "        \n",
    "print(add_mat(a,b))      "
   ]
  },
  {
   "cell_type": "markdown",
   "id": "88d06ab8",
   "metadata": {},
   "source": [
    "### 2. Write a Python Program to Multiply Two Matrices?"
   ]
  },
  {
   "cell_type": "code",
   "execution_count": 20,
   "id": "ce6363f8",
   "metadata": {},
   "outputs": [
    {
     "name": "stdout",
     "output_type": "stream",
     "text": [
      "[ 93. 117. 141.]\n",
      "[57. 72. 87.]\n",
      "[18. 24. 30.]\n"
     ]
    }
   ],
   "source": [
    "def multi_mat(m1,m2):\n",
    "    result = np.empty((len(m1[0]), len(m2)))\n",
    "\n",
    "    for i in range(len(m2)):\n",
    "        for j in range(len(m1[0])):\n",
    "            for k in range(len(m1)):\n",
    "                result[i][j] += m2[i][k] * m1[k][j]\n",
    "\n",
    "    for r in result:\n",
    "        print(r)\n",
    "\n",
    "multi_mat(a,b)"
   ]
  },
  {
   "cell_type": "markdown",
   "id": "4a721a4f",
   "metadata": {},
   "source": [
    "### 3. Write a Python Program to Transpose a Matrix?"
   ]
  },
  {
   "cell_type": "code",
   "execution_count": 23,
   "id": "5353fc0d",
   "metadata": {},
   "outputs": [
    {
     "name": "stdout",
     "output_type": "stream",
     "text": [
      "[[1 4 7]\n",
      " [2 5 8]\n",
      " [3 6 9]]\n"
     ]
    }
   ],
   "source": [
    "print(a.T)"
   ]
  },
  {
   "cell_type": "markdown",
   "id": "d53cf567",
   "metadata": {},
   "source": [
    "### 4. Write a Python Program to Sort Words in Alphabetic Order?"
   ]
  },
  {
   "cell_type": "code",
   "execution_count": 34,
   "id": "a5432a5e",
   "metadata": {},
   "outputs": [
    {
     "name": "stdout",
     "output_type": "stream",
     "text": [
      "Nikunjamiramani\n"
     ]
    }
   ],
   "source": [
    "array = \"I am Nikunj Ramani\"\n",
    "def sort1(array):\n",
    "    a = array.split(\" \")\n",
    "    for i in range(len(a)):\n",
    "        a[i] = a[i].lower()\n",
    "        a.sort()\n",
    "    return ''.join(a)\n",
    "\n",
    "print(sort1(array))"
   ]
  },
  {
   "cell_type": "markdown",
   "id": "7a016c28",
   "metadata": {},
   "source": [
    "### 5. Write a Python Program to Remove Punctuation From a String?"
   ]
  },
  {
   "cell_type": "code",
   "execution_count": 37,
   "id": "282c7354",
   "metadata": {},
   "outputs": [
    {
     "name": "stdout",
     "output_type": "stream",
     "text": [
      "jnvj knjnjg \n"
     ]
    }
   ],
   "source": [
    "a = \"jnvj#$% knjnjg%^& @#$\"\n",
    "\n",
    "def punct(a):\n",
    "    punctuations = '''!()-[]{};:'\"\\,<>./?@#$%^&*_~'''\n",
    "    for i in a.lower():\n",
    "        if i in punctuations:\n",
    "            a = a.replace(i, \"\")\n",
    "    print(a)\n",
    "    \n",
    "punct(a)"
   ]
  },
  {
   "cell_type": "code",
   "execution_count": null,
   "id": "52583e86",
   "metadata": {},
   "outputs": [],
   "source": []
  }
 ],
 "metadata": {
  "kernelspec": {
   "display_name": "Python 3 (ipykernel)",
   "language": "python",
   "name": "python3"
  },
  "language_info": {
   "codemirror_mode": {
    "name": "ipython",
    "version": 3
   },
   "file_extension": ".py",
   "mimetype": "text/x-python",
   "name": "python",
   "nbconvert_exporter": "python",
   "pygments_lexer": "ipython3",
   "version": "3.9.7"
  }
 },
 "nbformat": 4,
 "nbformat_minor": 5
}
