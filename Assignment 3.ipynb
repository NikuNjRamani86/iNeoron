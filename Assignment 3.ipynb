{
 "cells": [
  {
   "attachments": {},
   "cell_type": "markdown",
   "id": "0b16ab08",
   "metadata": {},
   "source": [
    "###### 1. Why are functions advantageous to have in your programs?\n",
    "- Time saving\n",
    "- Makes programs short\n",
    "- Easy to understand\n",
    "- Easy to read and update\n",
    "- It is reusable"
   ]
  },
  {
   "cell_type": "markdown",
   "id": "54875cd4",
   "metadata": {},
   "source": [
    "##### 2. When does the code in a function run: when it's specified or when it's called?\n",
    "- when called a function, first of all it control to the function so that execution begins at the first statement inside the function"
   ]
  },
  {
   "cell_type": "markdown",
   "id": "07818c46",
   "metadata": {},
   "source": [
    "##### 3. What statement creates a function?\n",
    "- first of all declare the function and give it a name\n",
    "- for example : def function"
   ]
  },
  {
   "cell_type": "code",
   "execution_count": 1,
   "id": "0c87dd20",
   "metadata": {},
   "outputs": [],
   "source": [
    "def func():   # Here func is function\n",
    "    pass"
   ]
  },
  {
   "cell_type": "markdown",
   "id": "4d137070",
   "metadata": {},
   "source": [
    "##### 4. What is the difference between a function and a function call?\n",
    "- Function - it usually accepts inputs as parameters and return results and it should have its name and paranthesis brackets.\n",
    "- Function call - it is the code used to pass control to a function and it have semicolon."
   ]
  },
  {
   "cell_type": "markdown",
   "id": "4f6de0ae",
   "metadata": {},
   "source": [
    "##### 5. How many global scopes are there in a Python program? How many local scopes?\n",
    " - one global scope per python program exucution\n",
    " - local scope used inside the function"
   ]
  },
  {
   "cell_type": "markdown",
   "id": "a8b3e256",
   "metadata": {},
   "source": [
    "##### 6. What happens to variables in a local scope when the function call returns?\n",
    "- it retains its value untill the next time the function is called.\n",
    "- it is undefined after the function call completes"
   ]
  },
  {
   "cell_type": "markdown",
   "id": "5e1650c6",
   "metadata": {},
   "source": [
    "##### 7. What is the concept of a return value? Is it possible to have a return value in an expression?\n",
    "- it is used to end the execution of the function call and return the result.\n",
    "- the statements after the return statements are not executed.\n",
    "- yes, it possible to have a return value in an expression"
   ]
  },
  {
   "cell_type": "markdown",
   "id": "39b691a7",
   "metadata": {},
   "source": [
    "##### 8. If a function does not have a return statement, what is the return value of a call to that function?\n",
    "- None"
   ]
  },
  {
   "cell_type": "code",
   "execution_count": 2,
   "id": "eefb2c5e",
   "metadata": {},
   "outputs": [],
   "source": [
    "def add(x,y):\n",
    "    return"
   ]
  },
  {
   "cell_type": "code",
   "execution_count": 4,
   "id": "8f192db1",
   "metadata": {},
   "outputs": [
    {
     "name": "stdout",
     "output_type": "stream",
     "text": [
      "None\n"
     ]
    }
   ],
   "source": [
    "print(add(5,5))"
   ]
  },
  {
   "cell_type": "markdown",
   "id": "f2aa43c4",
   "metadata": {},
   "source": [
    "##### 9. How do you make a function variable refer to the global variable?\n",
    "- use the global keyword to declare which variables are global"
   ]
  },
  {
   "cell_type": "code",
   "execution_count": 5,
   "id": "114e60be",
   "metadata": {},
   "outputs": [],
   "source": [
    "xy = 10 # Global variable\n",
    "def add():\n",
    "    marks=1000 # Local variable\n",
    "    global xy  #Global variable"
   ]
  },
  {
   "cell_type": "markdown",
   "id": "7d7f72bd",
   "metadata": {},
   "source": [
    "###### 10. What is the data type of None?\n",
    "- NoneType"
   ]
  },
  {
   "cell_type": "code",
   "execution_count": 7,
   "id": "76192be8",
   "metadata": {},
   "outputs": [
    {
     "data": {
      "text/plain": [
       "NoneType"
      ]
     },
     "execution_count": 7,
     "metadata": {},
     "output_type": "execute_result"
    }
   ],
   "source": [
    "x = None\n",
    "type(x)"
   ]
  },
  {
   "cell_type": "markdown",
   "id": "2f57bb1c",
   "metadata": {},
   "source": [
    "##### 11. What does the sentence import areallyourpetsnamederic do?\n",
    "- import a module named areallyourpetsnamederic"
   ]
  },
  {
   "cell_type": "markdown",
   "id": "39102980",
   "metadata": {},
   "source": [
    "##### 12. If you had a bacon() feature in a spam module, what would you call it after importing spam?\n",
    "- spam.bacon()"
   ]
  },
  {
   "cell_type": "markdown",
   "id": "d46b9c92",
   "metadata": {},
   "source": [
    "##### 13. What can you do to save a programme from crashing if it encounters an error?\n",
    "- used Try and Except block"
   ]
  },
  {
   "cell_type": "markdown",
   "id": "66479b6f",
   "metadata": {},
   "source": [
    "##### 14. What is the purpose of the try clause? What is the purpose of the except clause?\n",
    "- try - it lets you test a block of code for errors. it will execute there is no error in the program\n",
    "- except - it lets you handle the error and execute"
   ]
  },
  {
   "cell_type": "code",
   "execution_count": null,
   "id": "a3cd26be",
   "metadata": {},
   "outputs": [],
   "source": []
  }
 ],
 "metadata": {
  "kernelspec": {
   "display_name": "Python 3 (ipykernel)",
   "language": "python",
   "name": "python3"
  },
  "language_info": {
   "codemirror_mode": {
    "name": "ipython",
    "version": 3
   },
   "file_extension": ".py",
   "mimetype": "text/x-python",
   "name": "python",
   "nbconvert_exporter": "python",
   "pygments_lexer": "ipython3",
   "version": "3.9.7"
  }
 },
 "nbformat": 4,
 "nbformat_minor": 5
}
