{
 "cells": [
  {
   "cell_type": "markdown",
   "id": "59104349",
   "metadata": {},
   "source": [
    "#### 1.What are the two values of the Boolean data type? How do you write them?\n",
    "- True and False are the two values of the boolean data type\n",
    "- write True and False"
   ]
  },
  {
   "cell_type": "markdown",
   "id": "3c2f9797",
   "metadata": {},
   "source": [
    "#### 2. What are the three different types of Boolean operators? \n",
    "- And, or ,not are the types of boolean operators\n",
    "- and- when a and b both condition true that time it will be print True\n",
    "- or- when a or b at leat one condition true that time it will be print True\n",
    "- not - True only if false"
   ]
  },
  {
   "cell_type": "markdown",
   "id": "80d77667",
   "metadata": {},
   "source": [
    "#### 3. Make a list of each Boolean operator&#39;s truth tables (i.e. every possible combination of Boolean values for the operator and what it evaluate ). \n",
    "- True and True = True\n",
    "- True and False = False\n",
    "- False and True = False\n",
    "- False and False = False\n",
    "- True or True = True\n",
    "- True or False = True\n",
    "- False or True = True\n",
    "- False or False = False\n",
    "- not True = False\n",
    "- not False = True"
   ]
  },
  {
   "cell_type": "markdown",
   "id": "13b8fc09",
   "metadata": {},
   "source": [
    "#### 4. What are the values of the following expressions?\n",
    "- (5 > 4) and (3 == 5) = False\n",
    "- not (5 > 4) = False\n",
    "- (5 > 4) or (3 == 5) = True\n",
    "- not ((5 > 4) or (3 == 5)) = False\n",
    "- (True and True) and (True == False) = False\n",
    "- (not False) or (not True) = True"
   ]
  },
  {
   "cell_type": "markdown",
   "id": "9f93e60c",
   "metadata": {},
   "source": [
    "#### 5. What are the six comparison operators?\n",
    "- '=='  equal\n",
    "- '!=' not equal\n",
    "- '>' -greater than\n",
    "- '<' less than\n",
    "- '>=' greater than or equal to\n",
    "- '<=' less than or equal to"
   ]
  },
  {
   "cell_type": "markdown",
   "id": "4ba5c38f",
   "metadata": {},
   "source": [
    "#### 6. How do you tell the difference between the equal to and assignment operators?Describe a condition and when you would use one.\n",
    "- '==' it is euqal to. it is comparison operator and used comparing two value.\n",
    "- '=' it is assignment operator and used assign a value to the variable."
   ]
  },
  {
   "cell_type": "markdown",
   "id": "71d785c6",
   "metadata": {},
   "source": [
    "#### 7. Identify the three blocks in this code"
   ]
  },
  {
   "cell_type": "code",
   "execution_count": 2,
   "id": "f0f80f95",
   "metadata": {},
   "outputs": [
    {
     "name": "stdout",
     "output_type": "stream",
     "text": [
      "ham\n",
      "spam\n",
      "spam\n"
     ]
    }
   ],
   "source": [
    "spam = 0\n",
    "if spam == 10:          # it is comparison operator and when spam is equal to 10, print eggs\n",
    "    print('eggs')\n",
    "if spam >5:     # when spam is greater than 5, print bacon\n",
    "    print('bacon')\n",
    "else:           # when above two condition is not true, print ham,spam,spam\n",
    "    print('ham')\n",
    "    print('spam')\n",
    "    print('spam')"
   ]
  },
  {
   "cell_type": "markdown",
   "id": "04b6a5c8",
   "metadata": {},
   "source": [
    "#### 8. Write code that prints Hello if 1 is stored in spam, prints Howdy if 2 is stored in spam, and prints Greetings! if anything else is stored in spam."
   ]
  },
  {
   "cell_type": "code",
   "execution_count": 3,
   "id": "583b3a4d",
   "metadata": {},
   "outputs": [
    {
     "name": "stdout",
     "output_type": "stream",
     "text": [
      "Greetings!\n"
     ]
    }
   ],
   "source": [
    "if spam ==1:\n",
    "    print('Hello')\n",
    "elif spam ==2:\n",
    "    print('Howdy')\n",
    "else:\n",
    "    print('Greetings!')"
   ]
  },
  {
   "cell_type": "markdown",
   "id": "ee7231b0",
   "metadata": {},
   "source": [
    "#### 9.If your programme is stuck in an endless loop, what keys you’ll press?\n",
    "- Ctrl+C"
   ]
  },
  {
   "cell_type": "markdown",
   "id": "db44588e",
   "metadata": {},
   "source": [
    "#### 10. How can you tell the difference between break and continue?\n",
    "- its are used inside the loop\n",
    "- Break- it terminate the loop immediately\n",
    "- Continue - it skip the current ireration"
   ]
  },
  {
   "cell_type": "code",
   "execution_count": 4,
   "id": "8957aa99",
   "metadata": {},
   "outputs": [
    {
     "name": "stdout",
     "output_type": "stream",
     "text": [
      "0\n",
      "1\n",
      "2\n"
     ]
    }
   ],
   "source": [
    "for i in range(10):\n",
    "    if i ==3:\n",
    "        break\n",
    "    print(i)   #when i=3, after that loop will not work"
   ]
  },
  {
   "cell_type": "code",
   "execution_count": 5,
   "id": "18928703",
   "metadata": {},
   "outputs": [
    {
     "name": "stdout",
     "output_type": "stream",
     "text": [
      "0\n",
      "1\n",
      "2\n",
      "4\n"
     ]
    }
   ],
   "source": [
    "for i in range(5):\n",
    "    if i==3:\n",
    "        continue\n",
    "    print(i) # when i=3, skip that iteration"
   ]
  },
  {
   "cell_type": "markdown",
   "id": "8fde582b",
   "metadata": {},
   "source": [
    "#### 11. In a for loop, what is the difference between range(10), range(0, 10), and range(0, 10, 1)?\n",
    "- There is no difference between them"
   ]
  },
  {
   "cell_type": "markdown",
   "id": "77f147d6",
   "metadata": {},
   "source": [
    "#### 12. Write a short program that prints the numbers 1 to 10 using a for loop. Then write an equivalent program that prints the numbers 1 to 10 using a while loop."
   ]
  },
  {
   "cell_type": "code",
   "execution_count": 4,
   "id": "b3e8b3d7",
   "metadata": {},
   "outputs": [
    {
     "data": {
      "text/plain": [
       "[0, 1, 2, 3, 4, 5, 6, 7, 8, 9, 10]"
      ]
     },
     "execution_count": 4,
     "metadata": {},
     "output_type": "execute_result"
    }
   ],
   "source": [
    "[i for i in range(11)]"
   ]
  },
  {
   "cell_type": "code",
   "execution_count": 9,
   "id": "21a3cd1d",
   "metadata": {},
   "outputs": [
    {
     "name": "stdout",
     "output_type": "stream",
     "text": [
      "1\n",
      "2\n",
      "3\n",
      "4\n",
      "5\n",
      "6\n",
      "7\n",
      "8\n",
      "9\n",
      "10\n"
     ]
    }
   ],
   "source": [
    "n = 10\n",
    "i=1\n",
    "while i<=n:\n",
    "    print(i)\n",
    "    i +=1"
   ]
  },
  {
   "cell_type": "markdown",
   "id": "209b68fe",
   "metadata": {},
   "source": [
    "#### 13. If you had a function named bacon() inside a module named spam, how would you call it after importing spam? \n",
    "- spam.bacon()"
   ]
  },
  {
   "cell_type": "code",
   "execution_count": null,
   "id": "b6e01498",
   "metadata": {},
   "outputs": [],
   "source": []
  }
 ],
 "metadata": {
  "kernelspec": {
   "display_name": "Python 3 (ipykernel)",
   "language": "python",
   "name": "python3"
  },
  "language_info": {
   "codemirror_mode": {
    "name": "ipython",
    "version": 3
   },
   "file_extension": ".py",
   "mimetype": "text/x-python",
   "name": "python",
   "nbconvert_exporter": "python",
   "pygments_lexer": "ipython3",
   "version": "3.9.7"
  }
 },
 "nbformat": 4,
 "nbformat_minor": 5
}
