{
 "cells": [
  {
   "cell_type": "markdown",
   "id": "9d29bd53",
   "metadata": {},
   "source": [
    "##### 1. Write a Python program to convert kilometers to miles?"
   ]
  },
  {
   "cell_type": "code",
   "execution_count": 3,
   "id": "4ff03fe7",
   "metadata": {},
   "outputs": [
    {
     "name": "stdout",
     "output_type": "stream",
     "text": [
      "Enter value in kilometers: 5\n",
      "5.00 kilometers is equal to 3.11 miles\n"
     ]
    }
   ],
   "source": [
    "KM = float(input('Enter value in kilometers: '))\n",
    "# 1KM = 0.621371 miles\n",
    "cf = 0.621371\n",
    "Miles = KM * cf\n",
    "print('%1.2f kilometers is equal to %1.2f miles' %(KM,Miles))"
   ]
  },
  {
   "cell_type": "markdown",
   "id": "bc5aebc5",
   "metadata": {},
   "source": [
    "##### 2. Write a Python program to convert Celsius to Fahrenheit?"
   ]
  },
  {
   "cell_type": "code",
   "execution_count": 4,
   "id": "36912dd8",
   "metadata": {},
   "outputs": [
    {
     "name": "stdout",
     "output_type": "stream",
     "text": [
      "Enter value in celsius: 5\n",
      "5.00 celsius is equal to 41.00 fahrenheit\n"
     ]
    }
   ],
   "source": [
    "celsius = float(input(\"Enter value in celsius: \"))\n",
    "# F = C*1.8 + 32\n",
    "fahrenheit = (celsius * 1.8) + 32\n",
    "print('%1.2f celsius is equal to %1.2f fahrenheit' %(celsius, fahrenheit))"
   ]
  },
  {
   "cell_type": "markdown",
   "id": "d9828361",
   "metadata": {},
   "source": [
    "##### 3. Write a Python program to display calendar?"
   ]
  },
  {
   "cell_type": "code",
   "execution_count": 5,
   "id": "41edf597",
   "metadata": {},
   "outputs": [
    {
     "name": "stdout",
     "output_type": "stream",
     "text": [
      "Enter year: 2022\n",
      "Enter month: 5\n",
      "      May 2022\n",
      "Mo Tu We Th Fr Sa Su\n",
      "                   1\n",
      " 2  3  4  5  6  7  8\n",
      " 9 10 11 12 13 14 15\n",
      "16 17 18 19 20 21 22\n",
      "23 24 25 26 27 28 29\n",
      "30 31\n",
      "\n"
     ]
    }
   ],
   "source": [
    "import calendar\n",
    "year = int(input('Enter year: '))\n",
    "month = int(input('Enter month: '))\n",
    "print(calendar.month(year, month))"
   ]
  },
  {
   "attachments": {
    "image.png": {
     "image/png": "[encoded data removed]"
    }
   },
   "cell_type": "markdown",
   "id": "833caeec",
   "metadata": {},
   "source": [
    "##### 4. Write a Python program to solve quadratic equation?\n",
    "- Solution of quadratic equation\n",
    "![image.png](attachment:image.png)"
   ]
  },
  {
   "cell_type": "code",
   "execution_count": 7,
   "id": "7886260d",
   "metadata": {},
   "outputs": [
    {
     "name": "stdout",
     "output_type": "stream",
     "text": [
      "Enter a: 5\n",
      "Enter b: 4\n",
      "Enter c: 3\n",
      "Solution of quadratic equation are (-0.4-0.6633249580710799j) and (-0.4+0.6633249580710799j)\n"
     ]
    }
   ],
   "source": [
    "import cmath\n",
    "a = float(input('Enter a: '))\n",
    "b = float(input('Enter b: '))\n",
    "c = float(input('Enter c: '))\n",
    "\n",
    "y = (b**2) - (4*a*c)\n",
    "x1 = (-b-cmath.sqrt(y))/(2*a)\n",
    "x2 = (-b+cmath.sqrt(y))/(2*a)\n",
    "\n",
    "print(\"Solution of quadratic equation are {} and {}\".format(x1,x2))"
   ]
  },
  {
   "cell_type": "markdown",
   "id": "aa8ddd56",
   "metadata": {},
   "source": [
    "##### 5. Write a Python program to swap two variables without temp variable?"
   ]
  },
  {
   "cell_type": "code",
   "execution_count": 11,
   "id": "af704a2b",
   "metadata": {},
   "outputs": [
    {
     "name": "stdout",
     "output_type": "stream",
     "text": [
      "After swaping x: 20\n",
      "After swaping y: 10\n"
     ]
    }
   ],
   "source": [
    "x = 10\n",
    "y = 20\n",
    "x,y = y,x\n",
    "\n",
    "print('After swaping x: {}'.format(x))\n",
    "print('After swaping y: {}'.format(y))"
   ]
  },
  {
   "cell_type": "code",
   "execution_count": null,
   "id": "36c29c15",
   "metadata": {},
   "outputs": [],
   "source": []
  }
 ],
 "metadata": {
  "kernelspec": {
   "display_name": "Python 3 (ipykernel)",
   "language": "python",
   "name": "python3"
  },
  "language_info": {
   "codemirror_mode": {
    "name": "ipython",
    "version": 3
   },
   "file_extension": ".py",
   "mimetype": "text/x-python",
   "name": "python",
   "nbconvert_exporter": "python",
   "pygments_lexer": "ipython3",
   "version": "3.9.7"
  }
 },
 "nbformat": 4,
 "nbformat_minor": 5
}
