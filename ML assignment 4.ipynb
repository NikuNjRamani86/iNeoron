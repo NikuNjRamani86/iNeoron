{
 "cells": [
  {
   "cell_type": "markdown",
   "id": "7c61ac81",
   "metadata": {},
   "source": [
    "##### 1. What are the key tasks involved in getting ready to work with machine learning modeling?\n",
    "- collection of data\n",
    "- EDA\n",
    "- Choose the model\n",
    "- train ML model\n",
    "- Evaluation ML model\n",
    "- applied hyperparameter\n",
    "- prediction\n",
    "- deployment"
   ]
  },
  {
   "cell_type": "markdown",
   "id": "c92f1d05",
   "metadata": {},
   "source": [
    "##### 2. What are the different forms of data used in machine learning? Give a specific example for each of them.\n",
    "- numerical data - flight price prediction\n",
    "- categorical data - mashroom classification\n",
    "- time-series data - stock price prediction\n",
    "- text - fake news classifier"
   ]
  },
  {
   "cell_type": "markdown",
   "id": "df5fff1b",
   "metadata": {},
   "source": [
    "##### 3. Distinguish:\n",
    "####  Numeric vs. categorical attributes\n",
    "- Numeric (quantitative data)\n",
    " - take on numeric values\n",
    " - it have two kind of data Discrete and Continuous\n",
    " - Discrete has whole numbers for example numbers of student in a class\n",
    " - Continuous has any numeric value for example height of individual\n",
    "- Categorical (qualitative)\n",
    " - take on names or labels\n",
    " - it have two types of data Nominal and Ordinal\n",
    " - Nominal has named categories for example gender, eye color\n",
    " - Ordinal has categories with an implied order for example income level (less than 10k, 10k-20k,..)\n",
    " \n",
    "####  Feature selection vs. dimensionality reduction\n",
    "- Feature selection\n",
    " - it is selecting and excluding given feature without changing them\n",
    " - FS is use for find the features that have greater impact on outcome of predictive model.\n",
    "- Dimensionality reduction\n",
    " - it is transforms features into a lower dimension\n",
    " - DS is use for reduce the features without lossing much genuine information and improve the performance."
   ]
  },
  {
   "cell_type": "markdown",
   "id": "3a557ee4",
   "metadata": {},
   "source": [
    "##### 4. Make quick notes on any two of the following:\n",
    "##### The histogram\n",
    "- it is used for frequency distribution\n",
    "- it is type of bar plot where x-axis represents the bin range and y-axis represents information about frequency\n",
    "\n",
    "##### The scatter plot\n",
    "- In this plot, data set represented by a dot\n",
    "- it is used for to observe relationship between variables\n",
    "- it is widely used to represent relation among variables and how change in one affeccts the other"
   ]
  },
  {
   "cell_type": "markdown",
   "id": "2db547c2",
   "metadata": {},
   "source": [
    "##### 5. Why is it necessary to investigate data? Is there a discrepancy in how qualitative and quantitative data are explored?\n",
    "- the purpose of investigate data is to extract useful information from data and taking the decision based upon investigate data\n",
    "- quantitative data is number based, countable, or measurable whereas qualitative data is interpretation based, descriptive, and relating to language"
   ]
  },
  {
   "cell_type": "markdown",
   "id": "64ab1a7c",
   "metadata": {},
   "source": [
    "###### 6. What are the various histogram shapes? What exactly are ‘bins&#39;?\n",
    "- Bell shaped - its like normal distribution\n",
    "- Bimodel - it has two peaks\n",
    "- Skewed left -it will show a skewed distribution to the left"
   ]
  },
  {
   "cell_type": "markdown",
   "id": "880c02b8",
   "metadata": {},
   "source": [
    "##### 7. How do we deal with data outliers?\n",
    "- Remove outlier during EDA\n",
    "- Replace oulier with help of imputation method\n",
    "- Consider the underlying distribution\n",
    "- Consider the value of mild outliers"
   ]
  },
  {
   "cell_type": "markdown",
   "id": "633d613d",
   "metadata": {},
   "source": [
    "##### 8. What are the various central inclination measures? Why does mean vary too much from median in certain data sets?\n",
    "- Mean, Median and Mode\n",
    "- Mean is simple to use and it can be applied to ant data set, whether even or odd. Median is slightly complex to use because it needs to be in the ascending ot descending order first beore calculation.\n"
   ]
  },
  {
   "cell_type": "markdown",
   "id": "a9d1d70e",
   "metadata": {},
   "source": [
    "##### 9. Describe how a scatter plot can be used to investigate bivariate relationships. Is it possible to find outliers using a scatter plot?\n",
    "- it is useful for identifying relationships in bivariate data.\n",
    "- its find out the relationship between two quantitative variables, we can sometimes identify one variable as the independent variable and the other as the dependent variable.\n",
    "- yes, it is possible to find ouliers using a scatter plot if there is a regression line on a scatter plot, you can identify outliers. those points are farthest from the regression line it is call outliers."
   ]
  },
  {
   "cell_type": "markdown",
   "id": "fab4dd7b",
   "metadata": {},
   "source": [
    "##### 10. Describe how cross-tabs can be used to figure out how two variables are related.\n",
    "- It is a method to quantitatively analyze the relationship between multiple variables.\n",
    "- it is also known as contingency tables or cross tabs\n",
    "- cross tablution groups variables to understand the correlation between different variables.\n",
    "- it also shows how correlations change from one variable grouping to another"
   ]
  },
  {
   "cell_type": "code",
   "execution_count": null,
   "id": "53352460",
   "metadata": {},
   "outputs": [],
   "source": []
  }
 ],
 "metadata": {
  "kernelspec": {
   "display_name": "Python 3 (ipykernel)",
   "language": "python",
   "name": "python3"
  },
  "language_info": {
   "codemirror_mode": {
    "name": "ipython",
    "version": 3
   },
   "file_extension": ".py",
   "mimetype": "text/x-python",
   "name": "python",
   "nbconvert_exporter": "python",
   "pygments_lexer": "ipython3",
   "version": "3.9.7"
  }
 },
 "nbformat": 4,
 "nbformat_minor": 5
}
