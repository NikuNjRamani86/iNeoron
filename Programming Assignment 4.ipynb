{
 "cells": [
  {
   "cell_type": "markdown",
   "id": "8ba1d0ac",
   "metadata": {},
   "source": [
    "##### 1. Write a Python Program to Find the Factorial of a Number?"
   ]
  },
  {
   "cell_type": "code",
   "execution_count": 15,
   "id": "02a0e896",
   "metadata": {},
   "outputs": [],
   "source": [
    "\n",
    "def factorial(n):\n",
    "    f = 1\n",
    "    if n<0:\n",
    "        print('Factorial does not exits')\n",
    "    elif n==0:\n",
    "        print(\"Factorial of 0 is 1\")\n",
    "    else:\n",
    "        for i in range(1,n+1):\n",
    "            f = f*i\n",
    "        print(f)\n",
    "        "
   ]
  },
  {
   "cell_type": "code",
   "execution_count": 16,
   "id": "ab73d6b9",
   "metadata": {},
   "outputs": [
    {
     "name": "stdout",
     "output_type": "stream",
     "text": [
      "720\n"
     ]
    }
   ],
   "source": [
    "factorial(6)"
   ]
  },
  {
   "cell_type": "markdown",
   "id": "ddab9750",
   "metadata": {},
   "source": [
    "##### 2. Write a Python Program to Display the multiplication Table?"
   ]
  },
  {
   "cell_type": "code",
   "execution_count": 17,
   "id": "f64795f8",
   "metadata": {},
   "outputs": [],
   "source": [
    "def multiplication_table(n):\n",
    "    for i in range(1,11):\n",
    "        print(n,'x',i,'=',n*i)"
   ]
  },
  {
   "cell_type": "code",
   "execution_count": 18,
   "id": "1919c0c9",
   "metadata": {},
   "outputs": [
    {
     "name": "stdout",
     "output_type": "stream",
     "text": [
      "8 x 1 = 8\n",
      "8 x 2 = 16\n",
      "8 x 3 = 24\n",
      "8 x 4 = 32\n",
      "8 x 5 = 40\n",
      "8 x 6 = 48\n",
      "8 x 7 = 56\n",
      "8 x 8 = 64\n",
      "8 x 9 = 72\n",
      "8 x 10 = 80\n"
     ]
    }
   ],
   "source": [
    "multiplication_table(8)"
   ]
  },
  {
   "cell_type": "markdown",
   "id": "a1491016",
   "metadata": {},
   "source": [
    "##### 3. Write a Python Program to Print the Fibonacci sequence?"
   ]
  },
  {
   "cell_type": "code",
   "execution_count": 19,
   "id": "94e9a1d0",
   "metadata": {},
   "outputs": [],
   "source": [
    "def fibo(n):\n",
    "    a=1\n",
    "    b=1\n",
    "    output=[]\n",
    "    for i in range(n):\n",
    "        output.append(a)\n",
    "        a,b=b,a+b\n",
    "    print(output)\n",
    "    "
   ]
  },
  {
   "cell_type": "code",
   "execution_count": 20,
   "id": "fc74d71f",
   "metadata": {},
   "outputs": [
    {
     "name": "stdout",
     "output_type": "stream",
     "text": [
      "[1, 1, 2, 3, 5]\n"
     ]
    }
   ],
   "source": [
    "fibo(5)"
   ]
  },
  {
   "cell_type": "markdown",
   "id": "b98a5d97",
   "metadata": {},
   "source": [
    "##### 4. Write a Python Program to Check Armstrong Number?"
   ]
  },
  {
   "cell_type": "code",
   "execution_count": 24,
   "id": "e7579fec",
   "metadata": {},
   "outputs": [
    {
     "name": "stdout",
     "output_type": "stream",
     "text": [
      "Enter number: 500\n",
      "This number is not an armstrong number\n"
     ]
    }
   ],
   "source": [
    "x = int(input('Enter number: '))\n",
    "y = len(str(x))\n",
    "sum=0\n",
    "temp = x\n",
    "while temp>0:\n",
    "    digit = temp%10\n",
    "    sum = sum + digit**y\n",
    "    temp = temp //10\n",
    "if x == sum:\n",
    "    print('This number is an armstrong number')\n",
    "else:\n",
    "    print('This number is not an armstrong number')"
   ]
  },
  {
   "cell_type": "markdown",
   "id": "85119ead",
   "metadata": {},
   "source": [
    "##### 5. Write a Python Program to Find Armstrong Number in an Interval?"
   ]
  },
  {
   "cell_type": "code",
   "execution_count": 31,
   "id": "c5dd6fed",
   "metadata": {},
   "outputs": [],
   "source": [
    "def armstrong(lower, upper):\n",
    "    for i in range(lower, upper+1):\n",
    "        x = len(str(i))\n",
    "        sum = 0\n",
    "        temp = i\n",
    "        while temp>0:\n",
    "            digit = temp%10\n",
    "            sum += digit**x\n",
    "            temp //=10\n",
    "        if i==sum:\n",
    "            print(i)"
   ]
  },
  {
   "cell_type": "code",
   "execution_count": 32,
   "id": "415e1c2b",
   "metadata": {},
   "outputs": [
    {
     "name": "stdout",
     "output_type": "stream",
     "text": [
      "153\n",
      "370\n",
      "371\n",
      "407\n"
     ]
    }
   ],
   "source": [
    "armstrong(40,500)"
   ]
  },
  {
   "cell_type": "markdown",
   "id": "a53e45da",
   "metadata": {},
   "source": [
    "##### 6. Write a Python Program to Find the Sum of Natural Numbers?"
   ]
  },
  {
   "cell_type": "code",
   "execution_count": 33,
   "id": "901df936",
   "metadata": {},
   "outputs": [],
   "source": [
    "def naturalsum(n):\n",
    "    if n<0:\n",
    "        print('Enter a posotive number')\n",
    "    else:\n",
    "        sum=0\n",
    "        while n>0:\n",
    "            sum += n\n",
    "            n -=1\n",
    "        print(sum)"
   ]
  },
  {
   "cell_type": "code",
   "execution_count": 34,
   "id": "0943b4ce",
   "metadata": {},
   "outputs": [
    {
     "name": "stdout",
     "output_type": "stream",
     "text": [
      "55\n"
     ]
    }
   ],
   "source": [
    "naturalsum(10)"
   ]
  },
  {
   "cell_type": "code",
   "execution_count": null,
   "id": "c21618f7",
   "metadata": {},
   "outputs": [],
   "source": []
  }
 ],
 "metadata": {
  "kernelspec": {
   "display_name": "Python 3 (ipykernel)",
   "language": "python",
   "name": "python3"
  },
  "language_info": {
   "codemirror_mode": {
    "name": "ipython",
    "version": 3
   },
   "file_extension": ".py",
   "mimetype": "text/x-python",
   "name": "python",
   "nbconvert_exporter": "python",
   "pygments_lexer": "ipython3",
   "version": "3.9.7"
  }
 },
 "nbformat": 4,
 "nbformat_minor": 5
}
