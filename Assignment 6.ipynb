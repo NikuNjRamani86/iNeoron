{
 "cells": [
  {
   "cell_type": "markdown",
   "id": "6a99c4e9",
   "metadata": {},
   "source": [
    "##### 1. What are escape characters, and how do you use them?\n",
    "- \\b - used for backspace\n",
    "- \\f - used for form feed\n",
    "- \\n - used for new-line\n",
    "- \\t - used for horizontal tab\n",
    "- \\v - used for vertical tab\n",
    "- \\' - used for single quotation mark\n",
    "- \\\" - used for double quotation mark\n",
    "- \\? - used for question mark\n",
    "- \\\\\\ - used for backslash"
   ]
  },
  {
   "cell_type": "code",
   "execution_count": 9,
   "id": "d6199d83",
   "metadata": {},
   "outputs": [
    {
     "name": "stdout",
     "output_type": "stream",
     "text": [
      "Nikunj \bRamani\n"
     ]
    }
   ],
   "source": [
    "print(\"Nikunj \\bRamani\")"
   ]
  },
  {
   "cell_type": "code",
   "execution_count": 10,
   "id": "251c4d72",
   "metadata": {},
   "outputs": [
    {
     "name": "stdout",
     "output_type": "stream",
     "text": [
      "Nikunj\n",
      "Ramani\n"
     ]
    }
   ],
   "source": [
    "print(\"Nikunj\\nRamani\")"
   ]
  },
  {
   "cell_type": "code",
   "execution_count": 11,
   "id": "f2aebaaa",
   "metadata": {},
   "outputs": [
    {
     "name": "stdout",
     "output_type": "stream",
     "text": [
      "Nikunj\tRamani\n"
     ]
    }
   ],
   "source": [
    "print(\"Nikunj\\tRamani\")"
   ]
  },
  {
   "cell_type": "code",
   "execution_count": 12,
   "id": "c25f0da0",
   "metadata": {},
   "outputs": [
    {
     "name": "stdout",
     "output_type": "stream",
     "text": [
      "Nikunj\u000b",
      "Ramani\n"
     ]
    }
   ],
   "source": [
    "print(\"Nikunj\\vRamani\")"
   ]
  },
  {
   "cell_type": "code",
   "execution_count": 13,
   "id": "127256bb",
   "metadata": {},
   "outputs": [
    {
     "name": "stdout",
     "output_type": "stream",
     "text": [
      "Nikunj'Ramani\n"
     ]
    }
   ],
   "source": [
    "print(\"Nikunj\\'Ramani\")"
   ]
  },
  {
   "cell_type": "markdown",
   "id": "c0eed3ed",
   "metadata": {},
   "source": [
    "##### 2. What do the escape characters n and t stand for?\n",
    "- n - it generate new line whatever have after \\n\n",
    "- t - it generate 1tab space"
   ]
  },
  {
   "cell_type": "markdown",
   "id": "b33697af",
   "metadata": {},
   "source": [
    "##### 3. What is the way to include backslash characters in a string?\n",
    "- print(\"Nikunj\\\\Ramani\")"
   ]
  },
  {
   "cell_type": "code",
   "execution_count": 15,
   "id": "61dff773",
   "metadata": {},
   "outputs": [
    {
     "name": "stdout",
     "output_type": "stream",
     "text": [
      "Nikunj\\Ramani\n"
     ]
    }
   ],
   "source": [
    "print(\"Nikunj\\\\Ramani\")"
   ]
  },
  {
   "cell_type": "markdown",
   "id": "db21cbfe",
   "metadata": {},
   "source": [
    "##### 4. The string &quot;Howl&#39;s Moving Castle&quot; is a correct value. Why isn&#39;t the single quote character in the word Howl&#39;s not escaped a problem?\n",
    "- Because of string write in double quote, so that if we want to creat Howl's than use single quote"
   ]
  },
  {
   "cell_type": "markdown",
   "id": "c04760fb",
   "metadata": {},
   "source": [
    "##### 5. How do you write a string of newlines if you don&#39;t want to use the n character?"
   ]
  },
  {
   "cell_type": "code",
   "execution_count": 21,
   "id": "801c00bc",
   "metadata": {},
   "outputs": [
    {
     "name": "stdout",
     "output_type": "stream",
     "text": [
      "Nikunj ramani\n",
      "Ramani\n"
     ]
    }
   ],
   "source": [
    "print('Nikunj ramani', end='\\n')\n",
    "print(\"Ramani\")"
   ]
  },
  {
   "cell_type": "markdown",
   "id": "e78ca12d",
   "metadata": {},
   "source": [
    "##### 6. What are the values of the given expressions?"
   ]
  },
  {
   "cell_type": "code",
   "execution_count": 25,
   "id": "50e5b442",
   "metadata": {},
   "outputs": [],
   "source": [
    "s = 'Hello, World'"
   ]
  },
  {
   "cell_type": "code",
   "execution_count": 26,
   "id": "00df9426",
   "metadata": {},
   "outputs": [
    {
     "data": {
      "text/plain": [
       "'e'"
      ]
     },
     "execution_count": 26,
     "metadata": {},
     "output_type": "execute_result"
    }
   ],
   "source": [
    "s[1]  #it shows first index value"
   ]
  },
  {
   "cell_type": "code",
   "execution_count": 27,
   "id": "100890b1",
   "metadata": {},
   "outputs": [
    {
     "data": {
      "text/plain": [
       "'Hello'"
      ]
     },
     "execution_count": 27,
     "metadata": {},
     "output_type": "execute_result"
    }
   ],
   "source": [
    "s[0:5]  # it shows zero to 4 index value and 5 is exclusive"
   ]
  },
  {
   "cell_type": "code",
   "execution_count": 28,
   "id": "3d481fed",
   "metadata": {},
   "outputs": [
    {
     "data": {
      "text/plain": [
       "'Hello'"
      ]
     },
     "execution_count": 28,
     "metadata": {},
     "output_type": "execute_result"
    }
   ],
   "source": [
    "s[:5] #s[0:5] = s[:5]"
   ]
  },
  {
   "cell_type": "code",
   "execution_count": 30,
   "id": "9d5bd718",
   "metadata": {},
   "outputs": [
    {
     "data": {
      "text/plain": [
       "'lo, World'"
      ]
     },
     "execution_count": 30,
     "metadata": {},
     "output_type": "execute_result"
    }
   ],
   "source": [
    "s[3:] # it start with third index and end with end of string"
   ]
  },
  {
   "cell_type": "markdown",
   "id": "06bba13e",
   "metadata": {},
   "source": [
    "##### 7. What are the values of the following expressions?"
   ]
  },
  {
   "cell_type": "code",
   "execution_count": 31,
   "id": "ffab0e6c",
   "metadata": {},
   "outputs": [],
   "source": [
    "s = 'Hello'"
   ]
  },
  {
   "cell_type": "code",
   "execution_count": 32,
   "id": "a991de27",
   "metadata": {},
   "outputs": [
    {
     "data": {
      "text/plain": [
       "'HELLO'"
      ]
     },
     "execution_count": 32,
     "metadata": {},
     "output_type": "execute_result"
    }
   ],
   "source": [
    "s.upper()  # it convert string into upper case"
   ]
  },
  {
   "cell_type": "code",
   "execution_count": 34,
   "id": "b047b46c",
   "metadata": {},
   "outputs": [
    {
     "data": {
      "text/plain": [
       "True"
      ]
     },
     "execution_count": 34,
     "metadata": {},
     "output_type": "execute_result"
    }
   ],
   "source": [
    "s.upper().isupper() # check the string is it upper ot not?"
   ]
  },
  {
   "cell_type": "code",
   "execution_count": 36,
   "id": "43caa510",
   "metadata": {},
   "outputs": [
    {
     "data": {
      "text/plain": [
       "'hello'"
      ]
     },
     "execution_count": 36,
     "metadata": {},
     "output_type": "execute_result"
    }
   ],
   "source": [
    "s.upper().lower() #first convert into upper case after convert into lower case"
   ]
  },
  {
   "cell_type": "markdown",
   "id": "7a3df145",
   "metadata": {},
   "source": [
    "##### 8. What are the values of the following expressions?"
   ]
  },
  {
   "cell_type": "code",
   "execution_count": 39,
   "id": "4c57734a",
   "metadata": {},
   "outputs": [
    {
     "data": {
      "text/plain": [
       "['Remember,', 'remember,', 'the', 'fifth', 'of', 'july']"
      ]
     },
     "execution_count": 39,
     "metadata": {},
     "output_type": "execute_result"
    }
   ],
   "source": [
    "'Remember, remember, the fifth of july'.split()\n",
    "# split() function convert string into list of words"
   ]
  },
  {
   "cell_type": "code",
   "execution_count": 41,
   "id": "05854f34",
   "metadata": {},
   "outputs": [
    {
     "data": {
      "text/plain": [
       "'There-can-only-one'"
      ]
     },
     "execution_count": 41,
     "metadata": {},
     "output_type": "execute_result"
    }
   ],
   "source": [
    "\"-\".join('There can only one'.split())\n",
    "#here first convert string into list of words and after join all word with \"-\""
   ]
  },
  {
   "cell_type": "markdown",
   "id": "1d8d3ab4",
   "metadata": {},
   "source": [
    "##### 9. What are the methods for right-justifying, left-justifying, and centering a string?\n",
    "- ljust, rjust and center"
   ]
  },
  {
   "cell_type": "code",
   "execution_count": 42,
   "id": "01c57a07",
   "metadata": {},
   "outputs": [],
   "source": [
    "s = 'Nikunj Ramani'"
   ]
  },
  {
   "cell_type": "code",
   "execution_count": 63,
   "id": "2031dfe0",
   "metadata": {},
   "outputs": [
    {
     "data": {
      "text/plain": [
       "'Nikunj Ramani*******'"
      ]
     },
     "execution_count": 63,
     "metadata": {},
     "output_type": "execute_result"
    }
   ],
   "source": [
    "s.ljust(20,'*')"
   ]
  },
  {
   "cell_type": "code",
   "execution_count": 64,
   "id": "a97750dc",
   "metadata": {},
   "outputs": [
    {
     "data": {
      "text/plain": [
       "'***Nikunj Ramani****'"
      ]
     },
     "execution_count": 64,
     "metadata": {},
     "output_type": "execute_result"
    }
   ],
   "source": [
    "s.center(20,'*')"
   ]
  },
  {
   "cell_type": "code",
   "execution_count": 65,
   "id": "5668d20e",
   "metadata": {},
   "outputs": [
    {
     "data": {
      "text/plain": [
       "'*******Nikunj Ramani'"
      ]
     },
     "execution_count": 65,
     "metadata": {},
     "output_type": "execute_result"
    }
   ],
   "source": [
    "s.rjust(20,'*')"
   ]
  },
  {
   "cell_type": "markdown",
   "id": "a3ff7773",
   "metadata": {},
   "source": [
    "##### 10. What is the best way to remove whitespace characters from the start or end?\n",
    "- using strip()"
   ]
  },
  {
   "cell_type": "code",
   "execution_count": 78,
   "id": "66876bd9",
   "metadata": {},
   "outputs": [],
   "source": [
    "s = \"    nik    \""
   ]
  },
  {
   "cell_type": "code",
   "execution_count": 79,
   "id": "2ca15363",
   "metadata": {},
   "outputs": [
    {
     "data": {
      "text/plain": [
       "'nik'"
      ]
     },
     "execution_count": 79,
     "metadata": {},
     "output_type": "execute_result"
    }
   ],
   "source": [
    "s.strip()"
   ]
  }
 ],
 "metadata": {
  "kernelspec": {
   "display_name": "Python 3 (ipykernel)",
   "language": "python",
   "name": "python3"
  },
  "language_info": {
   "codemirror_mode": {
    "name": "ipython",
    "version": 3
   },
   "file_extension": ".py",
   "mimetype": "text/x-python",
   "name": "python",
   "nbconvert_exporter": "python",
   "pygments_lexer": "ipython3",
   "version": "3.9.7"
  }
 },
 "nbformat": 4,
 "nbformat_minor": 5
}
