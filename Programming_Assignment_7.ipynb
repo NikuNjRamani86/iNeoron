{
 "cells": [
  {
   "cell_type": "markdown",
   "id": "7fa14d42",
   "metadata": {},
   "source": [
    "### 1. Write a Python Program to find sum of array?"
   ]
  },
  {
   "cell_type": "code",
   "execution_count": 31,
   "id": "14111e74",
   "metadata": {},
   "outputs": [
    {
     "name": "stdout",
     "output_type": "stream",
     "text": [
      "15\n"
     ]
    }
   ],
   "source": [
    "array = [1,2,3,4,5]\n",
    "\n",
    "\n",
    "def sum_array(array):\n",
    "    sum = 0\n",
    "    for i in array:\n",
    "        sum +=i\n",
    "    return sum\n",
    "\n",
    "print(sum_array(array))"
   ]
  },
  {
   "cell_type": "markdown",
   "id": "0f6b0d19",
   "metadata": {},
   "source": [
    "### 2. Write a Python Program to find largest element in an array?"
   ]
  },
  {
   "cell_type": "code",
   "execution_count": 32,
   "id": "d7af854e",
   "metadata": {},
   "outputs": [
    {
     "name": "stdout",
     "output_type": "stream",
     "text": [
      "5\n"
     ]
    }
   ],
   "source": [
    "def largest(array):\n",
    "    array.sort()\n",
    "    print(array[-1])\n",
    "    \n",
    "largest(array)"
   ]
  },
  {
   "cell_type": "markdown",
   "id": "8094d205",
   "metadata": {},
   "source": [
    "### 3. Write a Python Program for array rotation?"
   ]
  },
  {
   "cell_type": "code",
   "execution_count": 49,
   "id": "7988b15e",
   "metadata": {},
   "outputs": [
    {
     "name": "stdout",
     "output_type": "stream",
     "text": [
      "[4, 5, 6, 7, 8, 9, 1, 2, 3]\n"
     ]
    }
   ],
   "source": [
    "array = [1,2,3,4,5,6,7,8,9]\n",
    "def rotate(array, d,n):\n",
    "    array[:] = array[d:n] + array[0:d]\n",
    "    return array\n",
    "\n",
    "print(rotate(array,3,len(array)))"
   ]
  },
  {
   "cell_type": "markdown",
   "id": "9962ff84",
   "metadata": {},
   "source": [
    "### 4. Write a Python Program to Split the array and add the first part to the end?"
   ]
  },
  {
   "cell_type": "code",
   "execution_count": 52,
   "id": "a9006488",
   "metadata": {},
   "outputs": [
    {
     "name": "stdout",
     "output_type": "stream",
     "text": [
      "[1, 2, 6, 7, 8, 9, 3, 4, 5]\n"
     ]
    }
   ],
   "source": [
    "array = [1,2,3,4,5,6,7,8,9]\n",
    "\n",
    "def split(array,x,y,n):\n",
    "    array[:] = array[0:x] + array[y:n] + array[x:y]\n",
    "    return array\n",
    "\n",
    "print(split(array, 2, 5, len(array)))"
   ]
  },
  {
   "cell_type": "markdown",
   "id": "1ad17b90",
   "metadata": {},
   "source": [
    "### 5. Write a Python Program to check if given array is Monotonic?"
   ]
  },
  {
   "cell_type": "code",
   "execution_count": 53,
   "id": "77f20aca",
   "metadata": {},
   "outputs": [
    {
     "name": "stdout",
     "output_type": "stream",
     "text": [
      "True\n"
     ]
    }
   ],
   "source": [
    "def isMonotonic(A):\n",
    "  \n",
    "    return (all(A[i] <= A[i + 1] for i in range(len(A) - 1)) or\n",
    "            all(A[i] >= A[i + 1] for i in range(len(A) - 1)))\n",
    "  \n",
    "\n",
    "A = [6, 5, 4, 4]\n",
    "  \n",
    "\n",
    "print(isMonotonic(A))"
   ]
  },
  {
   "cell_type": "code",
   "execution_count": null,
   "id": "f7936645",
   "metadata": {},
   "outputs": [],
   "source": []
  }
 ],
 "metadata": {
  "kernelspec": {
   "display_name": "Python 3 (ipykernel)",
   "language": "python",
   "name": "python3"
  },
  "language_info": {
   "codemirror_mode": {
    "name": "ipython",
    "version": 3
   },
   "file_extension": ".py",
   "mimetype": "text/x-python",
   "name": "python",
   "nbconvert_exporter": "python",
   "pygments_lexer": "ipython3",
   "version": "3.9.7"
  }
 },
 "nbformat": 4,
 "nbformat_minor": 5
}
