{
 "cells": [
  {
   "cell_type": "markdown",
   "id": "eb7f8597",
   "metadata": {},
   "source": [
    "##### 1. Write a Python Program to Display Fibonacci Sequence Using Recursion?"
   ]
  },
  {
   "cell_type": "code",
   "execution_count": 3,
   "id": "891670da",
   "metadata": {},
   "outputs": [
    {
     "name": "stdout",
     "output_type": "stream",
     "text": [
      "0\n",
      "1\n",
      "1\n",
      "2\n",
      "3\n",
      "5\n",
      "8\n",
      "13\n"
     ]
    }
   ],
   "source": [
    "def fibo(n):\n",
    "    if n<=1:\n",
    "        return n\n",
    "    else:\n",
    "        return (fibo(n-1)+fibo(n-2))\n",
    "x = 8\n",
    "if x<=0:\n",
    "    print('Enter positive number')\n",
    "else:\n",
    "    for i in range(x):\n",
    "        print(fibo(i))"
   ]
  },
  {
   "cell_type": "code",
   "execution_count": 8,
   "id": "041f0b0a",
   "metadata": {},
   "outputs": [
    {
     "data": {
      "text/plain": [
       "13"
      ]
     },
     "execution_count": 8,
     "metadata": {},
     "output_type": "execute_result"
    }
   ],
   "source": [
    "fibo(7)"
   ]
  },
  {
   "cell_type": "markdown",
   "id": "9d1e1734",
   "metadata": {},
   "source": [
    "##### 2. Write a Python Program to Find Factorial of Number Using Recursion?"
   ]
  },
  {
   "cell_type": "code",
   "execution_count": 12,
   "id": "40290d55",
   "metadata": {},
   "outputs": [],
   "source": [
    "def  factorial(n):\n",
    "    if n==1:\n",
    "        return n\n",
    "    else:\n",
    "        return n*factorial(n-1)"
   ]
  },
  {
   "cell_type": "code",
   "execution_count": 15,
   "id": "b5150e89",
   "metadata": {},
   "outputs": [
    {
     "data": {
      "text/plain": [
       "120"
      ]
     },
     "execution_count": 15,
     "metadata": {},
     "output_type": "execute_result"
    }
   ],
   "source": [
    "factorial(5)"
   ]
  },
  {
   "cell_type": "markdown",
   "id": "2d626667",
   "metadata": {},
   "source": [
    "##### 3. Write a Python Program to calculate your Body Mass Index?"
   ]
  },
  {
   "cell_type": "code",
   "execution_count": 17,
   "id": "bb7e38d2",
   "metadata": {},
   "outputs": [
    {
     "name": "stdout",
     "output_type": "stream",
     "text": [
      "Enter your weight in kg: 58\n",
      "Enter your height in m: 1.8\n",
      "BMI is: 17.901234567901234\n"
     ]
    }
   ],
   "source": [
    "weight = float(input('Enter your weight in kg: '))\n",
    "height = float(input('Enter your height in m: '))\n",
    "BMI = weight/(height**2)\n",
    "print('BMI is: {}'.format(BMI))"
   ]
  },
  {
   "cell_type": "markdown",
   "id": "314d1e83",
   "metadata": {},
   "source": [
    "##### 4. Write a Python Program to calculate the natural logarithm of any number?"
   ]
  },
  {
   "cell_type": "code",
   "execution_count": 20,
   "id": "25ae95bb",
   "metadata": {},
   "outputs": [
    {
     "name": "stdout",
     "output_type": "stream",
     "text": [
      "Enter a number:5\n",
      "1.6094379124341003\n"
     ]
    }
   ],
   "source": [
    "import math\n",
    "x = int(input('Enter a number:'))\n",
    "print(math.log(x))"
   ]
  },
  {
   "cell_type": "markdown",
   "id": "d2a133c3",
   "metadata": {},
   "source": [
    "##### 5. Write a Python Program for cube sum of first n natural numbers?"
   ]
  },
  {
   "cell_type": "code",
   "execution_count": 24,
   "id": "eb1c4c6d",
   "metadata": {},
   "outputs": [
    {
     "name": "stdout",
     "output_type": "stream",
     "text": [
      "Enter a number: 4\n",
      "100\n"
     ]
    }
   ],
   "source": [
    "x = int(input('Enter a number: '))\n",
    "sum = 0\n",
    "for i in range(1,x+1):\n",
    "    sum +=i*i*i\n",
    "print(sum)"
   ]
  },
  {
   "cell_type": "code",
   "execution_count": null,
   "id": "1e7af818",
   "metadata": {},
   "outputs": [],
   "source": []
  }
 ],
 "metadata": {
  "kernelspec": {
   "display_name": "Python 3 (ipykernel)",
   "language": "python",
   "name": "python3"
  },
  "language_info": {
   "codemirror_mode": {
    "name": "ipython",
    "version": 3
   },
   "file_extension": ".py",
   "mimetype": "text/x-python",
   "name": "python",
   "nbconvert_exporter": "python",
   "pygments_lexer": "ipython3",
   "version": "3.9.7"
  }
 },
 "nbformat": 4,
 "nbformat_minor": 5
}
