{
 "cells": [
  {
   "cell_type": "markdown",
   "id": "b44425ce",
   "metadata": {},
   "source": [
    "#### 1. In the below elements which of them are values or an expression? eg:- values can be integer or string and expressions will be mathematical operators.\n",
    "- '*' - it is multiplication arithmetic operators\n",
    "- 'hello' - it is string\n",
    "- -87.8 - it is a float value\n",
    "- '-' it is subtraction arithmetic operators\n",
    "- '/' - it is a Division arithmetic operators\n",
    "- '+' - it is a additional arithmetic oprerators\n",
    "- 6 - integer value"
   ]
  },
  {
   "cell_type": "markdown",
   "id": "0dcc09e8",
   "metadata": {},
   "source": [
    "#### 2. What is the difference between string and variable?\n",
    "#### String\n",
    "- String is write in singal or double inverted commas\n",
    "- for example - \"Nikunj Ramani\" or 'Nikunj'\n",
    "\n",
    "#### Variable\n",
    "- Variable isn't write in singal or double inverted commas\n",
    "- It is used for denote the object by the name\n",
    "- for example s = \"Nikunj Ramani\", here s is variable"
   ]
  },
  {
   "cell_type": "code",
   "execution_count": 1,
   "id": "27b83c46",
   "metadata": {},
   "outputs": [
    {
     "data": {
      "text/plain": [
       "'Nikunj Ramani'"
      ]
     },
     "execution_count": 1,
     "metadata": {},
     "output_type": "execute_result"
    }
   ],
   "source": [
    "#string\n",
    "\"Nikunj Ramani\""
   ]
  },
  {
   "cell_type": "code",
   "execution_count": 3,
   "id": "534ebd18",
   "metadata": {},
   "outputs": [
    {
     "data": {
      "text/plain": [
       "'Nikunj Ramani'"
      ]
     },
     "execution_count": 3,
     "metadata": {},
     "output_type": "execute_result"
    }
   ],
   "source": [
    "#Variable s\n",
    "s = \"Nikunj Ramani\"\n",
    "s"
   ]
  },
  {
   "cell_type": "markdown",
   "id": "786fcbb0",
   "metadata": {},
   "source": [
    "#### 3.Describe three different data types.\n",
    "\n",
    "- Numeric\n",
    "  - Integer - it is absolute value like 3,5,32,75\n",
    "  - Float - it is float value like 3.2 5.6 22.001\n",
    "  - complex - it is like 1 + 5j\n",
    "- Sequence\n",
    "  - String - String - it is in \" \", or ' '\n",
    "  - List - it has store in square bracket [1,2,2]. It is mutable\n",
    "  - Tuple - it has store in parenthesis bracket (1,2,3). it is immutable\n",
    "- Boolean - It have two types of data True ot False\n",
    "- Dictionary - It has key,value pair data and store in curly bracket {'Nik':50}\n",
    "- Set - it is written in {}. it is mutable."
   ]
  },
  {
   "cell_type": "code",
   "execution_count": 14,
   "id": "6a1d5a91",
   "metadata": {},
   "outputs": [
    {
     "data": {
      "text/plain": [
       "int"
      ]
     },
     "execution_count": 14,
     "metadata": {},
     "output_type": "execute_result"
    }
   ],
   "source": [
    "s = 6\n",
    "type(s)"
   ]
  },
  {
   "cell_type": "code",
   "execution_count": 5,
   "id": "be54cf4f",
   "metadata": {},
   "outputs": [
    {
     "data": {
      "text/plain": [
       "float"
      ]
     },
     "execution_count": 5,
     "metadata": {},
     "output_type": "execute_result"
    }
   ],
   "source": [
    "f = 2.5\n",
    "type(f)"
   ]
  },
  {
   "cell_type": "code",
   "execution_count": 6,
   "id": "0245a615",
   "metadata": {},
   "outputs": [
    {
     "data": {
      "text/plain": [
       "complex"
      ]
     },
     "execution_count": 6,
     "metadata": {},
     "output_type": "execute_result"
    }
   ],
   "source": [
    "c = 1 + 5j\n",
    "type(c)"
   ]
  },
  {
   "cell_type": "code",
   "execution_count": 7,
   "id": "9034a759",
   "metadata": {},
   "outputs": [
    {
     "data": {
      "text/plain": [
       "str"
      ]
     },
     "execution_count": 7,
     "metadata": {},
     "output_type": "execute_result"
    }
   ],
   "source": [
    "s = \"Nikunj\"\n",
    "type(s)"
   ]
  },
  {
   "cell_type": "code",
   "execution_count": 8,
   "id": "f8c5e31c",
   "metadata": {},
   "outputs": [
    {
     "data": {
      "text/plain": [
       "list"
      ]
     },
     "execution_count": 8,
     "metadata": {},
     "output_type": "execute_result"
    }
   ],
   "source": [
    "l = [1,2,3]\n",
    "type(l)"
   ]
  },
  {
   "cell_type": "code",
   "execution_count": 9,
   "id": "483cd606",
   "metadata": {},
   "outputs": [
    {
     "data": {
      "text/plain": [
       "tuple"
      ]
     },
     "execution_count": 9,
     "metadata": {},
     "output_type": "execute_result"
    }
   ],
   "source": [
    "t = (1,2,3)\n",
    "type(t)"
   ]
  },
  {
   "cell_type": "code",
   "execution_count": 10,
   "id": "facc4839",
   "metadata": {},
   "outputs": [
    {
     "data": {
      "text/plain": [
       "bool"
      ]
     },
     "execution_count": 10,
     "metadata": {},
     "output_type": "execute_result"
    }
   ],
   "source": [
    "x = True\n",
    "type(x)"
   ]
  },
  {
   "cell_type": "code",
   "execution_count": 11,
   "id": "7c245fa9",
   "metadata": {},
   "outputs": [
    {
     "data": {
      "text/plain": [
       "dict"
      ]
     },
     "execution_count": 11,
     "metadata": {},
     "output_type": "execute_result"
    }
   ],
   "source": [
    "dict1 = {'Name':'Nikunj', 'Mo':99596562}\n",
    "type(dict1)"
   ]
  },
  {
   "cell_type": "code",
   "execution_count": 13,
   "id": "a3582965",
   "metadata": {},
   "outputs": [
    {
     "data": {
      "text/plain": [
       "set"
      ]
     },
     "execution_count": 13,
     "metadata": {},
     "output_type": "execute_result"
    }
   ],
   "source": [
    "s = {1,2,3}\n",
    "type(s)"
   ]
  },
  {
   "cell_type": "markdown",
   "id": "288b80bf",
   "metadata": {},
   "source": [
    "#### 4.What is an expression made up of? What do all expressions do?\n",
    "- it is combination of operators and operands that produce othe value\n",
    "- Arithmetic - it is combination of oprators and numeric value (+,-,*,/,//,%,%, **)\n",
    "- Logical - it gives result either true of false (and, or, not)\n",
    "- Assignment - it assign the value (=,+=,-=,...)\n",
    "- Comparison - its are compare the two value (==, !=, <, >, >=, <=)\n",
    "- Identify - it compare two variable (is, is not)\n",
    "- Membership - it check the data present or not (in, not in)"
   ]
  },
  {
   "cell_type": "markdown",
   "id": "b83379b0",
   "metadata": {},
   "source": [
    "####  5. This assignment statements, like spam = 10. What is the difference between an expression and a statement?\n"
   ]
  },
  {
   "cell_type": "code",
   "execution_count": 15,
   "id": "f1a822e7",
   "metadata": {},
   "outputs": [
    {
     "name": "stdout",
     "output_type": "stream",
     "text": [
      "10\n"
     ]
    }
   ],
   "source": [
    "spam = 10 # Expression\n",
    "print(spam)  # Statement"
   ]
  },
  {
   "cell_type": "markdown",
   "id": "82b6672c",
   "metadata": {},
   "source": [
    "#### 6. After running the following code, what does the variable bacon contain?\n",
    "- bacon variable add 1"
   ]
  },
  {
   "cell_type": "code",
   "execution_count": 16,
   "id": "9f4b4ae9",
   "metadata": {},
   "outputs": [],
   "source": [
    "bacon = 22"
   ]
  },
  {
   "cell_type": "code",
   "execution_count": 17,
   "id": "42f70bad",
   "metadata": {},
   "outputs": [
    {
     "data": {
      "text/plain": [
       "23"
      ]
     },
     "execution_count": 17,
     "metadata": {},
     "output_type": "execute_result"
    }
   ],
   "source": [
    "bacon + 1"
   ]
  },
  {
   "cell_type": "markdown",
   "id": "7c5234a9",
   "metadata": {},
   "source": [
    "#### 7. What should the values of the following two terms be?\n",
    "- both values are equal"
   ]
  },
  {
   "cell_type": "code",
   "execution_count": 18,
   "id": "dfac6d25",
   "metadata": {},
   "outputs": [
    {
     "data": {
      "text/plain": [
       "'spamspamspam'"
      ]
     },
     "execution_count": 18,
     "metadata": {},
     "output_type": "execute_result"
    }
   ],
   "source": [
    "'spam'+'spamspam'"
   ]
  },
  {
   "cell_type": "code",
   "execution_count": 19,
   "id": "8976e937",
   "metadata": {},
   "outputs": [
    {
     "data": {
      "text/plain": [
       "'spamspamspam'"
      ]
     },
     "execution_count": 19,
     "metadata": {},
     "output_type": "execute_result"
    }
   ],
   "source": [
    "'spam'*3"
   ]
  },
  {
   "cell_type": "markdown",
   "id": "0c9537e3",
   "metadata": {},
   "source": [
    "#### 8. Why is eggs a valid variable name while 100 is invalid?\n",
    "- eggs is valid becase variable name star with alphbetic.\n",
    "- 100 is not valid becase variable name never start with numerical value"
   ]
  },
  {
   "cell_type": "markdown",
   "id": "fa89a263",
   "metadata": {},
   "source": [
    "#### 9. What three functions can be used to get the integer, floating-point number, or string version of a value?\n",
    "- int()- used for integer\n",
    "- float() - used for floating point number\n",
    "- str() - used for string value"
   ]
  },
  {
   "cell_type": "markdown",
   "id": "c17d56b6",
   "metadata": {},
   "source": [
    "#### 10. Why does this expression cause an error? How can you fix it?\n",
    "'I have eaten'+ 99 + 'burritos'\n",
    "-  becase you can not combine diffrent data types. Here string and integer data ir present so that it gives error."
   ]
  },
  {
   "cell_type": "code",
   "execution_count": null,
   "id": "5582f5df",
   "metadata": {},
   "outputs": [],
   "source": []
  }
 ],
 "metadata": {
  "kernelspec": {
   "display_name": "Python 3 (ipykernel)",
   "language": "python",
   "name": "python3"
  },
  "language_info": {
   "codemirror_mode": {
    "name": "ipython",
    "version": 3
   },
   "file_extension": ".py",
   "mimetype": "text/x-python",
   "name": "python",
   "nbconvert_exporter": "python",
   "pygments_lexer": "ipython3",
   "version": "3.9.7"
  }
 },
 "nbformat": 4,
 "nbformat_minor": 5
}
