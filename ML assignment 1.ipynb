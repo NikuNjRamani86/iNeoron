{
 "cells": [
  {
   "cell_type": "markdown",
   "id": "e59eccc2",
   "metadata": {},
   "source": [
    "##### 1. What does one mean by the term &quot;machine learning&quot;?\n",
    "- it is the concept of computer program can learn and adapt to new data without human intervention"
   ]
  },
  {
   "cell_type": "markdown",
   "id": "5ace7047",
   "metadata": {},
   "source": [
    "##### 2.Can you think of 4 distinct types of issues where it shines?\n",
    "- Spam detection in Email\n",
    "- Cancer diagnosis\n",
    "- Automatically driving vehicles\n",
    "- Fraudulent credit card transaction"
   ]
  },
  {
   "cell_type": "markdown",
   "id": "583f6981",
   "metadata": {},
   "source": [
    "##### 3.What is a labeled training set, and how does it work?\n",
    "- it is a group of samples that have been tagged with one or more labels.\n",
    "- it works, traing set is used for train the algorithm and then you us ethe trained model on the test set to predict the target variable values that are already known."
   ]
  },
  {
   "cell_type": "markdown",
   "id": "29b2ed71",
   "metadata": {},
   "source": [
    "##### 4.What are the two most important tasks that are supervised?\n",
    "- Regression ans Classification"
   ]
  },
  {
   "cell_type": "markdown",
   "id": "b00df639",
   "metadata": {},
   "source": [
    "##### 5.Can you think of four examples of unsupervised tasks?\n",
    "- Clustering\n",
    "- Visualization\n",
    "- Dimensionality reduction\n",
    "- Association rule learning"
   ]
  },
  {
   "cell_type": "markdown",
   "id": "5b6a1074",
   "metadata": {},
   "source": [
    "##### 6.State the machine learning model that would be best to make a robot walk through various unfamiliar terrains?\n",
    "- Reinforced learning"
   ]
  },
  {
   "cell_type": "markdown",
   "id": "40adee17",
   "metadata": {},
   "source": [
    "##### 7.Which algorithm will you use to divide your customers into different groups?\n",
    "- k-means clustering"
   ]
  },
  {
   "cell_type": "markdown",
   "id": "9feb52e6",
   "metadata": {},
   "source": [
    "##### 8.Will you consider the problem of spam detection to be a supervised or unsupervised learning problem?\n",
    "- Supervised learning problem because of it has target variable spam or not spam"
   ]
  },
  {
   "cell_type": "markdown",
   "id": "056c33b0",
   "metadata": {},
   "source": [
    "##### 9.What is the concept of an online learning system?\n",
    "- it is based on formlised teaching but with help of electronic resources"
   ]
  },
  {
   "cell_type": "markdown",
   "id": "fb93a9bc",
   "metadata": {},
   "source": [
    "##### 10.What is out-of-core learning, and how does it differ from core learning?\n",
    "- it is set of algorithms working with data that cannot fit into the memory of a single computer, but you can store such as hard disk\n",
    "- its differ from the core learning, because core ml is store data into framework like apple, api and it allows you to train your ml models and then integrate them into your iOS apps."
   ]
  },
  {
   "cell_type": "markdown",
   "id": "e9e65fe4",
   "metadata": {},
   "source": [
    "##### 11.What kind of learning algorithm makes predictions using a similarity measure?\n",
    "- Instance-based algorithm."
   ]
  },
  {
   "cell_type": "markdown",
   "id": "a6b749e3",
   "metadata": {},
   "source": [
    "##### 12.What&#39;s the difference between a model parameter and a hyperparameter in a learning algorithm?\n",
    "- model parameter- its are determined using the training dataset.\n",
    "- hyperparameter - its are set manually and are used in processes to help estimate model parameters "
   ]
  },
  {
   "cell_type": "markdown",
   "id": "b6608ef8",
   "metadata": {},
   "source": [
    "##### 13.What are the criteria that model-based learning algorithms look for? What is the most popular method they use to achieve success? What method do they use to make predictions?\n",
    "- The goal for a model-based algorithm is to be able to generalize to new examples. To do this, model based algorithms search for optimal values for the model's parameters, often called theta. This searching, or \"learning\", is what machine learning is all about. Model-based system learn by minimizing a cost function that measures how bad the system is at making predicitons on new data, plus a penalty for model complexity if the model is regularized. To make a prediction, a new instance's features are fed into a hypothesis function which uses the minimized theta found by repeatedly running the cost function."
   ]
  },
  {
   "cell_type": "markdown",
   "id": "200defb7",
   "metadata": {},
   "source": [
    "##### 14.Can you name four of the most important Machine Learning challenges?\n",
    "- Overfitting\n",
    "- Underfitting\n",
    "- Nonrepresentative training data\n",
    "- Irrelevant features\n",
    "- poor quality of data"
   ]
  },
  {
   "cell_type": "markdown",
   "id": "bd162520",
   "metadata": {},
   "source": [
    "##### 15.What happens if the model performs well on the training data but fails to generalize the results to new situations? Can you think of three different options?\n",
    "- it case of overfitting\n",
    "- in this case, reduce the model complexity, use hyperparameter tuning, add more data or removing outliers"
   ]
  },
  {
   "cell_type": "markdown",
   "id": "905142c7",
   "metadata": {},
   "source": [
    "##### 16.What exactly is a test set, and why would you need one?\n",
    "- it is a secondary dataset that is used to teat a ML model after it has been trained on traning dataset.\n",
    "- with help of test dataset we know how our model generalizes. also we can check the accury of the model"
   ]
  },
  {
   "cell_type": "markdown",
   "id": "b015193e",
   "metadata": {},
   "source": [
    "##### 17.What is a validation set&#39;s purpose?\n",
    "- it is used to train model with goal of finding and optimizing the best model to solve a given problem."
   ]
  },
  {
   "cell_type": "markdown",
   "id": "a4533572",
   "metadata": {},
   "source": [
    "#### 18.What precisely is the train-dev kit, when will you need it, how do you put it to use?\n",
    "- when we confuse between which model should use that used train-dev kit\n",
    "- it is give rank the models in term of their accuracy and helps us decide which model to proceed furthet with."
   ]
  },
  {
   "cell_type": "markdown",
   "id": "99501cba",
   "metadata": {},
   "source": [
    "##### 19.What could go wrong if you use the test set to tune hyperparameters?\n",
    "- your model will not be generalizable to new examples\n",
    "- because of lack of data, poor data quality,uninformative features,etc."
   ]
  },
  {
   "cell_type": "code",
   "execution_count": null,
   "id": "c2dc9d27",
   "metadata": {},
   "outputs": [],
   "source": []
  }
 ],
 "metadata": {
  "kernelspec": {
   "display_name": "Python 3 (ipykernel)",
   "language": "python",
   "name": "python3"
  },
  "language_info": {
   "codemirror_mode": {
    "name": "ipython",
    "version": 3
   },
   "file_extension": ".py",
   "mimetype": "text/x-python",
   "name": "python",
   "nbconvert_exporter": "python",
   "pygments_lexer": "ipython3",
   "version": "3.9.7"
  }
 },
 "nbformat": 4,
 "nbformat_minor": 5
}
